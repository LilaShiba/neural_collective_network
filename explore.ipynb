{
 "cells": [
  {
   "cell_type": "code",
   "execution_count": 1,
   "metadata": {},
   "outputs": [],
   "source": [
    "from utils.network import Network\n",
    "import numpy as np\n",
    "import random\n",
    "import matplotlib.pyplot as plt\n",
    "from sklearn.model_selection import train_test_split\n",
    "\n",
    "\n",
    "def sine_wave(graph: bool = False):\n",
    "    ''' Create data as sine-wave to test for\n",
    "        non-linearity\n",
    "\n",
    "        Returns: NP.array sine wave\n",
    "    '''\n",
    "    sample_size = 100\n",
    "    x_min = 0\n",
    "    x_max = 2 * np.pi\n",
    "\n",
    "    # Generate the x values\n",
    "    x_values = np.linspace(x_min, x_max, sample_size)\n",
    "    # Compute the y values using a non-linear function (e.g., sine)\n",
    "    y_values = np.sin(x_values)\n",
    "    # Combine x and y into a nested list of tuples\n",
    "    dataset = np.array(list(zip(x_values, y_values)))\n",
    "    if graph:\n",
    "        plt.plot(dataset[:, 0], dataset[:, 1])\n",
    "        plt.title('Input')\n",
    "        plt.show()\n",
    "    return dataset"
   ]
  },
  {
   "cell_type": "code",
   "execution_count": 2,
   "metadata": {},
   "outputs": [
    {
     "data": {
      "image/png": "[encoded data removed]",
      "text/plain": [
       "<Figure size 640x480 with 1 Axes>"
      ]
     },
     "metadata": {},
     "output_type": "display_data"
    }
   ],
   "source": [
    "# Parameters\n",
    "num_points = 100\n",
    "test_size = 0.3\n",
    "random_state = 42  # For reproducibility\n",
    "\n",
    "# Generate dataset\n",
    "x = np.linspace(1, 2*np.pi, num_points)\n",
    "y = np.sin(x)\n",
    "\n",
    "# # Define the range for x values\n",
    "# x = np.linspace(-10, 10, 400)  # 400 points from -10 to 10\n",
    "\n",
    "# # Define the nonlinear function, e.g., y = x^2\n",
    "# y = x**2\n",
    "plt.plot(x, y)\n",
    "plt.title('Train')\n",
    "plt.show()\n",
    "\n",
    "x_train, x_test, y_train, y_test = train_test_split(\n",
    "    x, y, test_size=test_size, random_state=random_state)\n",
    "\n",
    "training_data = np.array(list(zip(x, y)))"
   ]
  },
  {
   "cell_type": "code",
   "execution_count": 3,
   "metadata": {},
   "outputs": [
    {
     "name": "stdout",
     "output_type": "stream",
     "text": [
      "dict_values([<utils.layers.Layer object at 0x1049c1610>, <utils.layers.Layer object at 0x1250eaa50>])\n",
      "\n",
      "{0: <utils.neurons.Neuron object at 0x1250f82d0>, 1: <utils.neurons.Neuron object at 0x1250f8150>, 2: <utils.neurons.Neuron object at 0x1250f95d0>, 3: <utils.neurons.Neuron object at 0x1250f88d0>, 4: <utils.neurons.Neuron object at 0x1250fa250>, 5: <utils.neurons.Neuron object at 0x1250fa550>, 6: <utils.neurons.Neuron object at 0x1250fa710>, 7: <utils.neurons.Neuron object at 0x1250fa0d0>, 8: <utils.neurons.Neuron object at 0x1250fa490>, 9: <utils.neurons.Neuron object at 0x1250fa090>, 10: <utils.neurons.Neuron object at 0x1250fa190>, 11: <utils.neurons.Neuron object at 0x1250f9410>, 12: <utils.neurons.Neuron object at 0x1250fb2d0>, 13: <utils.neurons.Neuron object at 0x1250fb3d0>, 14: <utils.neurons.Neuron object at 0x1250fb610>, 15: <utils.neurons.Neuron object at 0x1250fb490>, 16: <utils.neurons.Neuron object at 0x1250fae90>, 17: <utils.neurons.Neuron object at 0x1250f9f50>, 18: <utils.neurons.Neuron object at 0x1250f9e90>, 19: <utils.neurons.Neuron object at 0x1250f9cd0>, 20: <utils.neurons.Neuron object at 0x1250f9b50>, 21: <utils.neurons.Neuron object at 0x1250fa310>, 22: <utils.neurons.Neuron object at 0x1250faf90>, 23: <utils.neurons.Neuron object at 0x1250fb010>, 24: <utils.neurons.Neuron object at 0x1250fb190>, 25: <utils.neurons.Neuron object at 0x1250faf50>, 26: <utils.neurons.Neuron object at 0x1250f9390>, 27: <utils.neurons.Neuron object at 0x1250f8e90>, 28: <utils.neurons.Neuron object at 0x1250f9c50>, 29: <utils.neurons.Neuron object at 0x1250f98d0>, 30: <utils.neurons.Neuron object at 0x1250faad0>, 31: <utils.neurons.Neuron object at 0x1250fb110>, 32: <utils.neurons.Neuron object at 0x1250fb090>, 33: <utils.neurons.Neuron object at 0x1250f9a10>, 34: <utils.neurons.Neuron object at 0x1250fa7d0>, 35: <utils.neurons.Neuron object at 0x1250f99d0>, 36: <utils.neurons.Neuron object at 0x1250fb550>, 37: <utils.neurons.Neuron object at 0x1250fb910>, 38: <utils.neurons.Neuron object at 0x1250fb8d0>, 39: <utils.neurons.Neuron object at 0x1250fbd90>, 40: <utils.neurons.Neuron object at 0x1250fb790>, 41: <utils.neurons.Neuron object at 0x1250fbb10>, 42: <utils.neurons.Neuron object at 0x1250f9d50>, 43: <utils.neurons.Neuron object at 0x1250fbdd0>, 44: <utils.neurons.Neuron object at 0x1250fbc10>, 45: <utils.neurons.Neuron object at 0x1250fbcd0>, 46: <utils.neurons.Neuron object at 0x1250fb850>, 47: <utils.neurons.Neuron object at 0x1250fb650>, 48: <utils.neurons.Neuron object at 0x1250fb310>, 49: <utils.neurons.Neuron object at 0x1250fbad0>, 50: <utils.neurons.Neuron object at 0x1250fa210>, 51: <utils.neurons.Neuron object at 0x1250fba90>, 52: <utils.neurons.Neuron object at 0x1250fba10>, 53: <utils.neurons.Neuron object at 0x1250fb750>, 54: <utils.neurons.Neuron object at 0x1250fac90>, 55: <utils.neurons.Neuron object at 0x1250fb710>, 56: <utils.neurons.Neuron object at 0x1250fb4d0>, 57: <utils.neurons.Neuron object at 0x1250fa050>, 58: <utils.neurons.Neuron object at 0x1250fbc90>, 59: <utils.neurons.Neuron object at 0x1250fa110>, 60: <utils.neurons.Neuron object at 0x1250f8ed0>, 61: <utils.neurons.Neuron object at 0x1250fa9d0>, 62: <utils.neurons.Neuron object at 0x1250fbbd0>, 63: <utils.neurons.Neuron object at 0x1250fab90>, 64: <utils.neurons.Neuron object at 0x1250fa890>, 65: <utils.neurons.Neuron object at 0x1250fbb90>, 66: <utils.neurons.Neuron object at 0x1250f9d90>, 67: <utils.neurons.Neuron object at 0x1250f9d10>, 68: <utils.neurons.Neuron object at 0x1250fa1d0>, 69: <utils.neurons.Neuron object at 0x1250e8990>, 70: <utils.neurons.Neuron object at 0x1250ead10>, 71: <utils.neurons.Neuron object at 0x1250ebf90>, 72: <utils.neurons.Neuron object at 0x1250ebfd0>, 73: <utils.neurons.Neuron object at 0x1250e8790>, 74: <utils.neurons.Neuron object at 0x1250e8490>, 75: <utils.neurons.Neuron object at 0x1250e87d0>, 76: <utils.neurons.Neuron object at 0x1250e8a10>, 77: <utils.neurons.Neuron object at 0x1250e8310>, 78: <utils.neurons.Neuron object at 0x1250e86d0>, 79: <utils.neurons.Neuron object at 0x1250e82d0>, 80: <utils.neurons.Neuron object at 0x1250e83d0>, 81: <utils.neurons.Neuron object at 0x1250e8590>, 82: <utils.neurons.Neuron object at 0x1250e9450>, 83: <utils.neurons.Neuron object at 0x1250e9650>, 84: <utils.neurons.Neuron object at 0x1250e9590>, 85: <utils.neurons.Neuron object at 0x1250e9490>, 86: <utils.neurons.Neuron object at 0x1250e81d0>, 87: <utils.neurons.Neuron object at 0x1250e8050>, 88: <utils.neurons.Neuron object at 0x1250e8150>, 89: <utils.neurons.Neuron object at 0x1250e8c90>, 90: <utils.neurons.Neuron object at 0x1250e9390>, 91: <utils.neurons.Neuron object at 0x1250e9150>, 92: <utils.neurons.Neuron object at 0x1250e8710>, 93: <utils.neurons.Neuron object at 0x1250e8750>, 94: <utils.neurons.Neuron object at 0x1250e8b10>, 95: <utils.neurons.Neuron object at 0x1250e8ad0>, 96: <utils.neurons.Neuron object at 0x1250e9610>, 97: <utils.neurons.Neuron object at 0x1250eaa10>, 98: <utils.neurons.Neuron object at 0x1250e99d0>, 99: <utils.neurons.Neuron object at 0x1250ea6d0>}\n"
     ]
    }
   ],
   "source": [
    "example_network = Network(dataset=training_data)\n",
    "example_network.init_network(layers=2)\n",
    "print(example_network.layers.values())\n",
    "print('')\n",
    "print(example_network.layers[0].neurons)"
   ]
  },
  {
   "cell_type": "code",
   "execution_count": 4,
   "metadata": {},
   "outputs": [
    {
     "name": "stdout",
     "output_type": "stream",
     "text": [
      "weights [[0.56577198 0.53512238]\n",
      " [0.35624272 0.97981428]\n",
      " [0.9654403  0.19976702]]\n",
      "\n",
      "signal 0.2430183737550553\n",
      "state 1.1730097854136028\n"
     ]
    }
   ],
   "source": [
    "n1 = example_network.layers[0].neurons[1]\n",
    "print(f'weights {n1.weights}')\n",
    "print('')\n",
    "print(f'signal {n1.signal}')\n",
    "print(f'state {n1.state}')"
   ]
  },
  {
   "cell_type": "code",
   "execution_count": 5,
   "metadata": {},
   "outputs": [],
   "source": [
    "# print(n1.iterate())\n",
    "\n",
    "\n",
    "delta_signal = n1.feed_forward()\n",
    "res = n1.derivative()\n",
    "neuron_loss_grad = (delta_signal - n1.inputs_y)\n",
    "d_output_d_weights = res * n1.inputs_y.T\n",
    "gradient = neuron_loss_grad * d_output_d_weights"
   ]
  },
  {
   "cell_type": "code",
   "execution_count": 6,
   "metadata": {},
   "outputs": [
    {
     "name": "stdout",
     "output_type": "stream",
     "text": [
      "[-0.05288784 -0.05294902]\n"
     ]
    }
   ],
   "source": [
    "print(gradient)"
   ]
  },
  {
   "cell_type": "code",
   "execution_count": 7,
   "metadata": {},
   "outputs": [
    {
     "name": "stdout",
     "output_type": "stream",
     "text": [
      "[[0.56577198 0.53512238]\n",
      " [0.35624272 0.97981428]\n",
      " [0.9654403  0.19976702]]\n",
      "\n",
      "[[0.59003904 0.55941751]\n",
      " [0.38050978 1.00410941]\n",
      " [0.98970736 0.22406215]]\n"
     ]
    }
   ],
   "source": [
    "print(n1.weights)\n",
    "print('')\n",
    "n1.weights -= n1.learning_rate * gradient\n",
    "print(n1.weights)"
   ]
  },
  {
   "cell_type": "code",
   "execution_count": 8,
   "metadata": {},
   "outputs": [
    {
     "data": {
      "text/plain": [
       "0.9925067853564131"
      ]
     },
     "execution_count": 8,
     "metadata": {},
     "output_type": "execute_result"
    }
   ],
   "source": [
    "n1.iterate()"
   ]
  }
 ],
 "metadata": {
  "kernelspec": {
   "display_name": "Python 3",
   "language": "python",
   "name": "python3"
  },
  "language_info": {
   "codemirror_mode": {
    "name": "ipython",
    "version": 3
   },
   "file_extension": ".py",
   "mimetype": "text/x-python",
   "name": "python",
   "nbconvert_exporter": "python",
   "pygments_lexer": "ipython3",
   "version": "3.11.5"
  }
 },
 "nbformat": 4,
 "nbformat_minor": 2
}
