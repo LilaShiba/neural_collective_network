{
 "cells": [
  {
   "cell_type": "code",
   "execution_count": null,
   "metadata": {},
   "outputs": [],
   "source": [
    "from utils.network import Network\n",
    "import numpy as np\n",
    "import random\n",
    "import matplotlib.pyplot as plt\n",
    "from sklearn.model_selection import train_test_split\n",
    "\n",
    "\n",
    "def sine_wave(graph: bool = False):\n",
    "    ''' Create data as sine-wave to test for\n",
    "        non-linearity\n",
    "\n",
    "        Returns: NP.array sine wave\n",
    "    '''\n",
    "    sample_size = 100\n",
    "    x_min = 0\n",
    "    x_max = 2 * np.pi\n",
    "\n",
    "    # Generate the x values\n",
    "    x_values = np.linspace(x_min, x_max, sample_size)\n",
    "    # Compute the y values using a non-linear function (e.g., sine)\n",
    "    y_values = np.sin(x_values)\n",
    "    # Combine x and y into a nested list of tuples\n",
    "    dataset = np.array(list(zip(x_values, y_values)))\n",
    "    if graph:\n",
    "        plt.plot(dataset[:, 0], dataset[:, 1])\n",
    "        plt.title('Input')\n",
    "        plt.show()\n",
    "    return dataset"
   ]
  },
  {
   "cell_type": "code",
   "execution_count": null,
   "metadata": {},
   "outputs": [],
   "source": [
    "# Parameters\n",
    "num_points = 100\n",
    "test_size = 0.3\n",
    "random_state = 42  # For reproducibility\n",
    "\n",
    "# Generate dataset\n",
    "x = np.linspace(1, 2*np.pi, num_points)\n",
    "y = np.sin(x)\n",
    "\n",
    "# # Define the range for x values\n",
    "# x = np.linspace(-10, 10, 400)  # 400 points from -10 to 10\n",
    "\n",
    "# # Define the nonlinear function, e.g., y = x^2\n",
    "# y = x**2\n",
    "plt.plot(x, y)\n",
    "plt.title('Train')\n",
    "plt.show()\n",
    "\n",
    "x_train, x_test, y_train, y_test = train_test_split(\n",
    "    x, y, test_size=test_size, random_state=random_state)\n",
    "\n",
    "training_data = np.array(list(zip(x, y)))"
   ]
  },
  {
   "cell_type": "code",
   "execution_count": null,
   "metadata": {},
   "outputs": [],
   "source": [
    "example_network = Network(dataset=training_data)\n",
    "example_network.init_network(layers=2)\n",
    "print(example_network.layers.values())\n",
    "print('')\n",
    "print(example_network.layers[0].neurons)"
   ]
  },
  {
   "cell_type": "code",
   "execution_count": null,
   "metadata": {},
   "outputs": [],
   "source": [
    "n1 = example_network.layers[0].neurons[1]\n",
    "print(f'weights {n1.weights}')\n",
    "print('')\n",
    "print(f'signal {n1.signal}')\n",
    "print(f'state {n1.state}')"
   ]
  },
  {
   "cell_type": "code",
   "execution_count": null,
   "metadata": {},
   "outputs": [],
   "source": [
    "# iteration of neuron\n",
    "\n",
    "# delta_signal = n1.feed_forward()\n",
    "# res = n1.derivative()\n",
    "# neuron_loss_grad = (delta_signal - n1.inputs_y)\n",
    "# d_output_d_weights = res * n1.inputs_y.T\n",
    "# gradient = neuron_loss_grad * d_output_d_weights\n",
    "# print(gradient)\n",
    "# print(n1.weights)\n",
    "# print('')\n",
    "# n1.weights -= n1.learning_rate * gradient\n",
    "# print(n1.weights)\n",
    "# n1.iterate()"
   ]
  },
  {
   "cell_type": "code",
   "execution_count": 9,
   "metadata": {},
   "outputs": [],
   "source": [
    "example_network.train_network(epochs=10)"
   ]
  },
  {
   "cell_type": "code",
   "execution_count": null,
   "metadata": {},
   "outputs": [],
   "source": []
  },
  {
   "cell_type": "code",
   "execution_count": null,
   "metadata": {},
   "outputs": [],
   "source": []
  },
  {
   "cell_type": "code",
   "execution_count": null,
   "metadata": {},
   "outputs": [],
   "source": []
  }
 ],
 "metadata": {
  "kernelspec": {
   "display_name": "Python 3",
   "language": "python",
   "name": "python3"
  },
  "language_info": {
   "codemirror_mode": {
    "name": "ipython",
    "version": 3
   },
   "file_extension": ".py",
   "mimetype": "text/x-python",
   "name": "python",
   "nbconvert_exporter": "python",
   "pygments_lexer": "ipython3",
   "version": "3.11.5"
  }
 },
 "nbformat": 4,
 "nbformat_minor": 2
}
