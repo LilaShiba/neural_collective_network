{
 "cells": [
  {
   "cell_type": "code",
   "execution_count": null,
   "metadata": {},
   "outputs": [],
   "source": [
    "from utils.network import Network\n",
    "import numpy as np\n",
    "import random\n",
    "import matplotlib.pyplot as plt\n",
    "from sklearn.model_selection import train_test_split\n",
    "import pandas as pd"
   ]
  },
  {
   "cell_type": "code",
   "execution_count": null,
   "metadata": {},
   "outputs": [],
   "source": [
    "# happy_img_path_1 = \"dataset/test/happy/im0.png\"\n",
    "# angry_img_path_1 = \"dataset/test/angry/im1.png\"\n",
    "# angry_img_path_2 = \"dataset/test/angry/im2.png\"\n",
    "# img_matrix = Network.transduce_img(img_path=angry_img_path_1)\n",
    "# # 11 is the region on the continous output for happy\n",
    "# input_matrix = [np.array([happy_img_path_1, 1]), np.array([angry_img_path_1, 0]),\n",
    "#                 np.array([angry_img_path_2, 2])]\n",
    "\n",
    "# single_test_angry = [img_matrix, 1]\n",
    "# single_test_happy = [Network.transduce_img(happy_img_path_1), -1]\n",
    "\n",
    "wave = Network.sine_wave()\n",
    "# input_matrix = np.array(input_matrix)\n",
    "wide_network = Network(dataset=wave)"
   ]
  },
  {
   "cell_type": "markdown",
   "metadata": {},
   "source": [
    "## Network Example"
   ]
  },
  {
   "cell_type": "code",
   "execution_count": null,
   "metadata": {},
   "outputs": [],
   "source": [
    "# Create Network\n",
    "wide_network.init_network(layers=2)\n",
    "print(wide_network.layers.values())\n",
    "print('')\n",
    "print(wide_network.layers[0].neurons)\n",
    "# Examine single neuron\n",
    "n1 = wide_network.layers[0].neurons[0]\n",
    "\n",
    "print(f'weights {n1.weights}')\n",
    "print('')\n",
    "print(f'signal {n1.signal}')\n",
    "print(f'state {n1.state}')"
   ]
  },
  {
   "cell_type": "code",
   "execution_count": null,
   "metadata": {},
   "outputs": [],
   "source": [
    "\n",
    "print(\"inputs_x type:\", n1.inputs_x.dtype, \"shape:\",\n",
    "      n1.inputs_x.shape, \"input:\", n1.inputs_x, \"output:\", n1.state, \"signal:\", n1.signal)\n",
    "print(\"weights type:\", n1.weights.dtype, \"shape:\",\n",
    "      n1.weights.shape, \"weights:\", n1.weights)"
   ]
  },
  {
   "cell_type": "code",
   "execution_count": null,
   "metadata": {},
   "outputs": [],
   "source": [
    "\n",
    "wide_network.train_network(epochs=20)"
   ]
  },
  {
   "cell_type": "code",
   "execution_count": null,
   "metadata": {},
   "outputs": [],
   "source": []
  },
  {
   "cell_type": "code",
   "execution_count": null,
   "metadata": {},
   "outputs": [],
   "source": [
    "c = []\n",
    "for layer in wide_network.layers.values():\n",
    "    for node in layer.neurons.values():\n",
    "        c.append(node.state[0])\n",
    "print(c)"
   ]
  },
  {
   "cell_type": "code",
   "execution_count": null,
   "metadata": {},
   "outputs": [],
   "source": [
    "c = np.array(c)\n",
    "print(c.std())"
   ]
  },
  {
   "cell_type": "code",
   "execution_count": null,
   "metadata": {},
   "outputs": [],
   "source": [
    "c = np.array([round(i, 3) for i in c])"
   ]
  },
  {
   "cell_type": "code",
   "execution_count": null,
   "metadata": {},
   "outputs": [],
   "source": [
    "plt.hist(c)"
   ]
  },
  {
   "cell_type": "code",
   "execution_count": null,
   "metadata": {},
   "outputs": [],
   "source": [
    "delta_img = []\n",
    "\n",
    "for layer in wide_network.layers.values():\n",
    "    r = []\n",
    "    for node in layer.neurons.values():\n",
    "        r.append(node.state[0])\n",
    "    delta_img.append(r)"
   ]
  },
  {
   "cell_type": "code",
   "execution_count": null,
   "metadata": {},
   "outputs": [],
   "source": [
    "# # Create an image using the data\n",
    "# size = int(len(delta_img[1]) ** 0.5)\n",
    "\n",
    "# img_one = delta_img[1]\n",
    "# data = np.array(img_one).reshape(size, size)\n",
    "\n",
    "# print(len(data))\n",
    "# plt.imshow(data, cmap='gray')  # 'gray' colormap for grayscale\n",
    "# plt.axis('off')  # Turn off axis\n",
    "\n",
    "# # Save the image\n",
    "# plt.savefig('output_image.png', bbox_inches='tight', pad_inches=0)\n",
    "\n",
    "# plt.show()"
   ]
  },
  {
   "cell_type": "code",
   "execution_count": null,
   "metadata": {},
   "outputs": [],
   "source": [
    "# plt.imshow(img_matrix, cmap='gray')  # 'gray' colormap for grayscale\n",
    "# plt.show()"
   ]
  }
 ],
 "metadata": {
  "kernelspec": {
   "display_name": "Python 3",
   "language": "python",
   "name": "python3"
  },
  "language_info": {
   "codemirror_mode": {
    "name": "ipython",
    "version": 3
   },
   "file_extension": ".py",
   "mimetype": "text/x-python",
   "name": "python",
   "nbconvert_exporter": "python",
   "pygments_lexer": "ipython3",
   "version": "3.11.5"
  }
 },
 "nbformat": 4,
 "nbformat_minor": 2
}
