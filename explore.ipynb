{
 "cells": [
  {
   "cell_type": "code",
   "execution_count": 1,
   "metadata": {},
   "outputs": [],
   "source": [
    "from utils.network import Network\n",
    "import numpy as np\n",
    "import random\n",
    "import matplotlib.pyplot as plt\n",
    "from sklearn.model_selection import train_test_split\n",
    "import pandas as pd"
   ]
  },
  {
   "cell_type": "code",
   "execution_count": 2,
   "metadata": {},
   "outputs": [],
   "source": [
    "# happy_img_path_1 = \"dataset/test/happy/im0.png\"\n",
    "# angry_img_path_1 = \"dataset/test/angry/im1.png\"\n",
    "# angry_img_path_2 = \"dataset/test/angry/im2.png\"\n",
    "# img_matrix = Network.transduce_img(img_path=angry_img_path_1)\n",
    "# # 11 is the region on the continous output for happy\n",
    "# input_matrix = [np.array([happy_img_path_1, 1]), np.array([angry_img_path_1, 0]),\n",
    "#                 np.array([angry_img_path_2, 2])]\n",
    "\n",
    "# single_test_angry = [img_matrix, 1]\n",
    "# single_test_happy = [Network.transduce_img(happy_img_path_1), -1]\n",
    "\n",
    "wave = Network.sine_wave()\n",
    "# input_matrix = np.array(input_matrix)\n",
    "wide_network = Network(dataset=wave)"
   ]
  },
  {
   "cell_type": "markdown",
   "metadata": {},
   "source": [
    "## Network Example"
   ]
  },
  {
   "cell_type": "code",
   "execution_count": 3,
   "metadata": {},
   "outputs": [
    {
     "name": "stdout",
     "output_type": "stream",
     "text": [
      "dict_values([<utils.layers.Layer object at 0x12d372190>, <utils.layers.Layer object at 0x12d390410>])\n",
      "\n",
      "{0: <utils.neurons.Neuron object at 0x12d372590>, 1: <utils.neurons.Neuron object at 0x12d3725d0>, 2: <utils.neurons.Neuron object at 0x10a8a4b10>, 3: <utils.neurons.Neuron object at 0x12b0f3650>, 4: <utils.neurons.Neuron object at 0x10a8b8e50>, 5: <utils.neurons.Neuron object at 0x113374950>, 6: <utils.neurons.Neuron object at 0x12b0b4450>, 7: <utils.neurons.Neuron object at 0x12b108510>, 8: <utils.neurons.Neuron object at 0x121344bd0>, 9: <utils.neurons.Neuron object at 0x12d372650>, 10: <utils.neurons.Neuron object at 0x12d370b50>, 11: <utils.neurons.Neuron object at 0x12d372610>, 12: <utils.neurons.Neuron object at 0x12d372690>, 13: <utils.neurons.Neuron object at 0x12d3726d0>, 14: <utils.neurons.Neuron object at 0x12d372710>, 15: <utils.neurons.Neuron object at 0x12d372750>, 16: <utils.neurons.Neuron object at 0x12d372790>, 17: <utils.neurons.Neuron object at 0x12d3727d0>, 18: <utils.neurons.Neuron object at 0x12d372810>, 19: <utils.neurons.Neuron object at 0x12d372850>, 20: <utils.neurons.Neuron object at 0x12d372890>, 21: <utils.neurons.Neuron object at 0x12d3728d0>, 22: <utils.neurons.Neuron object at 0x12d372910>, 23: <utils.neurons.Neuron object at 0x12d372950>, 24: <utils.neurons.Neuron object at 0x12d372990>, 25: <utils.neurons.Neuron object at 0x12d3729d0>, 26: <utils.neurons.Neuron object at 0x12d372a10>, 27: <utils.neurons.Neuron object at 0x12d372a50>, 28: <utils.neurons.Neuron object at 0x12d372a90>, 29: <utils.neurons.Neuron object at 0x12d372ad0>, 30: <utils.neurons.Neuron object at 0x12d372b10>, 31: <utils.neurons.Neuron object at 0x12d372b50>, 32: <utils.neurons.Neuron object at 0x12d372b90>, 33: <utils.neurons.Neuron object at 0x12d372bd0>, 34: <utils.neurons.Neuron object at 0x12d372c10>, 35: <utils.neurons.Neuron object at 0x12d372c50>, 36: <utils.neurons.Neuron object at 0x12d372c90>, 37: <utils.neurons.Neuron object at 0x12d372cd0>, 38: <utils.neurons.Neuron object at 0x12d372d10>, 39: <utils.neurons.Neuron object at 0x12d372d50>, 40: <utils.neurons.Neuron object at 0x12d372d90>, 41: <utils.neurons.Neuron object at 0x12d372dd0>, 42: <utils.neurons.Neuron object at 0x12d372e10>, 43: <utils.neurons.Neuron object at 0x12d372e50>, 44: <utils.neurons.Neuron object at 0x12d372e90>, 45: <utils.neurons.Neuron object at 0x12d372ed0>, 46: <utils.neurons.Neuron object at 0x12d372f10>, 47: <utils.neurons.Neuron object at 0x12d372f50>, 48: <utils.neurons.Neuron object at 0x12d372f90>, 49: <utils.neurons.Neuron object at 0x12d372fd0>, 50: <utils.neurons.Neuron object at 0x12d373010>, 51: <utils.neurons.Neuron object at 0x12d373050>, 52: <utils.neurons.Neuron object at 0x12d373090>, 53: <utils.neurons.Neuron object at 0x12d3730d0>, 54: <utils.neurons.Neuron object at 0x12d373110>, 55: <utils.neurons.Neuron object at 0x12d373150>, 56: <utils.neurons.Neuron object at 0x12d373190>, 57: <utils.neurons.Neuron object at 0x12d3731d0>, 58: <utils.neurons.Neuron object at 0x12d373210>, 59: <utils.neurons.Neuron object at 0x12d373250>, 60: <utils.neurons.Neuron object at 0x12d373290>, 61: <utils.neurons.Neuron object at 0x12d3732d0>, 62: <utils.neurons.Neuron object at 0x12d373310>, 63: <utils.neurons.Neuron object at 0x12d373350>, 64: <utils.neurons.Neuron object at 0x12d373390>, 65: <utils.neurons.Neuron object at 0x12d3733d0>, 66: <utils.neurons.Neuron object at 0x12d373410>, 67: <utils.neurons.Neuron object at 0x12d373450>, 68: <utils.neurons.Neuron object at 0x12d373490>, 69: <utils.neurons.Neuron object at 0x12d3734d0>, 70: <utils.neurons.Neuron object at 0x12d373510>, 71: <utils.neurons.Neuron object at 0x12d373550>, 72: <utils.neurons.Neuron object at 0x12d373590>, 73: <utils.neurons.Neuron object at 0x12d3735d0>, 74: <utils.neurons.Neuron object at 0x12d373610>, 75: <utils.neurons.Neuron object at 0x12d373650>, 76: <utils.neurons.Neuron object at 0x12d3736d0>, 77: <utils.neurons.Neuron object at 0x12d373710>, 78: <utils.neurons.Neuron object at 0x12d373750>, 79: <utils.neurons.Neuron object at 0x12d373790>, 80: <utils.neurons.Neuron object at 0x12d3737d0>, 81: <utils.neurons.Neuron object at 0x12d373810>, 82: <utils.neurons.Neuron object at 0x12d373850>, 83: <utils.neurons.Neuron object at 0x12d373890>, 84: <utils.neurons.Neuron object at 0x12d3738d0>, 85: <utils.neurons.Neuron object at 0x12d373910>, 86: <utils.neurons.Neuron object at 0x12d373950>, 87: <utils.neurons.Neuron object at 0x12d373990>, 88: <utils.neurons.Neuron object at 0x12d3739d0>, 89: <utils.neurons.Neuron object at 0x12d373a10>, 90: <utils.neurons.Neuron object at 0x12d373a50>, 91: <utils.neurons.Neuron object at 0x12d373a90>, 92: <utils.neurons.Neuron object at 0x12d373ad0>, 93: <utils.neurons.Neuron object at 0x12d373b10>, 94: <utils.neurons.Neuron object at 0x12d373b50>, 95: <utils.neurons.Neuron object at 0x12d373b90>, 96: <utils.neurons.Neuron object at 0x12d373bd0>, 97: <utils.neurons.Neuron object at 0x12d373c10>, 98: <utils.neurons.Neuron object at 0x12d373c50>, 99: <utils.neurons.Neuron object at 0x12d373c90>, 100: <utils.neurons.Neuron object at 0x12d373cd0>, 101: <utils.neurons.Neuron object at 0x12d373d10>, 102: <utils.neurons.Neuron object at 0x12d373d50>, 103: <utils.neurons.Neuron object at 0x12d373d90>, 104: <utils.neurons.Neuron object at 0x12d373dd0>, 105: <utils.neurons.Neuron object at 0x12d373e10>, 106: <utils.neurons.Neuron object at 0x12d373e50>, 107: <utils.neurons.Neuron object at 0x12d373e90>, 108: <utils.neurons.Neuron object at 0x12d373ed0>, 109: <utils.neurons.Neuron object at 0x12d373f10>, 110: <utils.neurons.Neuron object at 0x12d373f50>, 111: <utils.neurons.Neuron object at 0x12d373f90>, 112: <utils.neurons.Neuron object at 0x12d373fd0>, 113: <utils.neurons.Neuron object at 0x12d390050>, 114: <utils.neurons.Neuron object at 0x12d390090>, 115: <utils.neurons.Neuron object at 0x12d3900d0>, 116: <utils.neurons.Neuron object at 0x12d390110>, 117: <utils.neurons.Neuron object at 0x12d390150>, 118: <utils.neurons.Neuron object at 0x12d390190>, 119: <utils.neurons.Neuron object at 0x12d3901d0>, 120: <utils.neurons.Neuron object at 0x12d390210>, 121: <utils.neurons.Neuron object at 0x12d390250>, 122: <utils.neurons.Neuron object at 0x12d390290>, 123: <utils.neurons.Neuron object at 0x12d3902d0>, 124: <utils.neurons.Neuron object at 0x12d390310>, 125: <utils.neurons.Neuron object at 0x12d390350>, 126: <utils.neurons.Neuron object at 0x12d390390>, 127: <utils.neurons.Neuron object at 0x12d3903d0>}\n",
      "weights [[0.4370144  0.07763405]\n",
      " [0.05230993 0.33842053]\n",
      " [0.06294667 0.96774866]]\n",
      "\n",
      "signal [0.97754361 0.68427145]\n",
      "state 0.3015789483974345\n"
     ]
    }
   ],
   "source": [
    "# Create Network\n",
    "wide_network.init_network(layers=2)\n",
    "print(wide_network.layers.values())\n",
    "print('')\n",
    "print(wide_network.layers[0].neurons)\n",
    "# Examine single neuron\n",
    "n1 = wide_network.layers[0].neurons[0]\n",
    "\n",
    "print(f'weights {n1.weights}')\n",
    "print('')\n",
    "print(f'signal {n1.signal}')\n",
    "print(f'state {n1.state}')"
   ]
  },
  {
   "cell_type": "code",
   "execution_count": 4,
   "metadata": {},
   "outputs": [
    {
     "name": "stdout",
     "output_type": "stream",
     "text": [
      "inputs_x type: float64 shape: () input: 0.0 output: 0.3015789483974345 signal: [0.97754361 0.68427145]\n",
      "weights type: float64 shape: (3, 2) weights: [[0.4370144  0.07763405]\n",
      " [0.05230993 0.33842053]\n",
      " [0.06294667 0.96774866]]\n"
     ]
    }
   ],
   "source": [
    "\n",
    "print(\"inputs_x type:\", n1.inputs_x.dtype, \"shape:\",\n",
    "      n1.inputs_x.shape, \"input:\", n1.inputs_x, \"output:\", n1.state, \"signal:\", n1.signal)\n",
    "print(\"weights type:\", n1.weights.dtype, \"shape:\",\n",
    "      n1.weights.shape, \"weights:\", n1.weights)"
   ]
  },
  {
   "cell_type": "code",
   "execution_count": 5,
   "metadata": {},
   "outputs": [],
   "source": [
    "\n",
    "wide_network.train_network(epochs=20)"
   ]
  },
  {
   "cell_type": "code",
   "execution_count": null,
   "metadata": {},
   "outputs": [],
   "source": []
  },
  {
   "cell_type": "code",
   "execution_count": 6,
   "metadata": {},
   "outputs": [
    {
     "name": "stdout",
     "output_type": "stream",
     "text": [
      "[0.9181774483328862, 0.7432464864322067, 0.6040010926773993, 0.07932102207666003, 0.6489554125613171, 0.15502037970376792, 0.9222834786605574, 0.3526836898834834, 0.7779272966631537, 0.43280147791486423, 0.015391750156348749, 0.8403907606832459, 0.797078648640586, 0.1390029081487234, 0.4182659366162329, 0.9844465682750059, 0.18249843324134818, 0.590560664983, 0.08553206676731695, 0.8151415791157844, 0.5212802914534015, 0.8563143994228105, 0.5616852510241023, 0.13098376566240144, 0.1180229776808871, 0.8601507766872795, 0.2523616005028301, 0.7170282778545509, 0.5895817257935545, 0.08315646897992224, 0.6302146998096775, 0.15376664547058083, 0.9243450506199581, 0.5932371424825977, 0.8961409321941767, 0.9463932586011436, 0.17139206035494847, 0.6230633963754363, 0.6583977186651219, 0.39139224748272283, 0.5725509102068597, 0.49734143451606827, 0.42175129526556154, 0.6950643408571909, 0.6993583256976904, 0.5253211319637701, 0.27115209581804245, 0.20349939055712618, 0.4492897831452367, 0.3384594307766863, 0.35583924680591505, 0.10811081775552545, 0.6464911984403356, 0.050518429367480744, 0.9693371510774841, 0.25972759940997203, 0.030183498250430096, 0.2535128591681671, 0.242312002971807, 0.6924836308311105, 0.43178941801265414, 0.06049471094369385, 0.43204034122191726, 0.4803000835716581, 0.8844737606591007, 0.3494913092310261, 0.2985890945342411, 0.510617884054997, 0.7639725002748373, 0.7769489121203688, 0.4670201179813225, 0.20604719395976667, 0.3560353786003547, 0.9567421742349866, 0.6540023607564321, 0.23771605541076957, 0.795487063878616, 0.4780290126033825, 0.8850231923720221, 0.14341316442109742, 0.06476597903221193, 0.7175979478734897, 0.6202716329701476, 0.3108580489092547, 0.556381602590697, 0.27380599200288724, 0.9635095881413435, 0.6018959154932382, 0.24192653007787357, 0.6426837440839498, 0.12983110072036608, 0.057018691451482084, 0.1877457549016377, 0.15501755995003397, 0.9258402146700632, 0.7104656398064727, 0.2807599920669479, 0.9956358302493796, 0.21051707346751125, 0.5145194797054214, 0.05428046528733621, 0.3604559595985327, 0.5800085144058668, 0.05483183336070474, 0.5494747850299051, 0.0087851721642771, 0.21195835241372885, 0.6718498888675819, 0.7930547423579629, 0.8189258684847317, 0.25742049130511413, 0.782599570954364, 0.6944904100179492, 0.4979115873619221, 0.9599395846226286, 0.7631884405397845, 0.29344947214846195, 0.9518683969511695, 0.4101034695421252, 0.9397934372909466, 0.7098507230712796, 0.2529406496661559, 0.9289235925473104, 0.8818616088482385, 0.012088505036470631, 0.7684992089425825, 0.0357557454816948, 0.4069304150157873, 0.6784253524235543, 0.4088854783486542, 0.39393742141557475, 0.23857214748143096, 0.25577902266240726, 0.845034212128006, 0.14300720703547898, 0.18039339793559894, 0.629505376784866, 0.4443160755180059, 0.08625993690951783, 0.8560742395777058, 0.5994032082881869, 0.024583160633214973, 0.7051054065449345, 0.2835814346598514, 0.9198378360114444, 0.5388097278114997, 0.7529669801622149, 0.9365456433307293, 0.6563858016264902, 0.13992079353695552, 0.3214226468156982, 0.9078654757934795, 0.44281706693859846, 0.2650124956125778, 0.13167328597937233, 0.4139555454076408, 0.7826694649415523, 0.7882888963618984, 0.6264296596110634, 0.8122813876358753, 0.7127384950987844, 0.38471272952966695, 0.7398939029419593, 0.6082077560443051, 0.7525015284255049, 0.9192725682332863, 0.4730770745423547, 0.23900583094230876, 0.09474818627196058, 0.9211716810051542, 0.7652698931535133, 0.11420822091179217, 0.8096117955682889, 0.9246554622115779, 0.794079468783695, 0.17145287691904287, 0.20590771236516414, 0.7482928808551665, 0.35901471575970545, 0.8916111548971075, 0.09806614979912798, 0.6820671639861073, 0.5964207825324928, 0.9351484502992332, 0.6918780996725955, 0.24224755777308937, 0.7503568462669812, 0.043134548812780005, 0.0684189773697409, 0.6518437544726775, 0.7892619808875841, 0.5464470212008703, 0.18680554916961412, 0.9318765890469554, 0.35377865141833875, 0.6635679972995795, 0.9604959200757587, 0.361062800477851, 0.24810885680190975, 0.7193084648403036, 0.7657323376315535, 0.844217747731245, 0.8051722511727529, 0.8891775477862784, 0.5899866866276245, 0.6702603449148223, 0.3208348562165195, 0.7833537819491101, 0.5571538120847986, 0.8215514764466378, 0.7737324925953077, 0.5819934315523002, 0.12018428394636727, 0.8447631661991389, 0.21347024396245817, 0.7131418268626472, 0.053028802806089015, 0.5037032057562316, 0.6102127166794911, 0.9989928297350562, 0.9827636461956347, 0.20976981474059886, 0.2951031546213594, 0.8434545319388068, 0.9033469513397342, 0.2811440639331204, 0.7995444044163337, 0.8443700955250677, 0.8304322353970058, 0.4858429416099975, 0.7964239602732684, 0.3712942864716404, 0.8955697144859729, 0.6449323240364873, 0.5531212739966421, 0.8952211572365395, 0.9722100895279325, 0.381187256201016, 0.31748253093217627, 0.1306854152836272, 0.46955438433915553, 0.26118498978901417, 0.24590384956217626, 0.8183550130877136, 0.6733884763630442, 0.6608353868867834, 0.3881597611258487, 0.8197450153713445, 0.5256682487026704, 0.5309133325853682, 0.3265555612160552, 0.989542225887062, 0.6679260467130528, 0.27480352823141985, 0.3599975122707425, 0.9894456600964944]\n"
     ]
    }
   ],
   "source": [
    "c = []\n",
    "for layer in wide_network.layers.values():\n",
    "    for node in layer.neurons.values():\n",
    "        c.append(node.state[0])\n",
    "print(c)"
   ]
  },
  {
   "cell_type": "code",
   "execution_count": 7,
   "metadata": {},
   "outputs": [
    {
     "name": "stdout",
     "output_type": "stream",
     "text": [
      "0.2879149153055031\n"
     ]
    }
   ],
   "source": [
    "c = np.array(c)\n",
    "print(c.std())"
   ]
  },
  {
   "cell_type": "code",
   "execution_count": 8,
   "metadata": {},
   "outputs": [],
   "source": [
    "c = np.array([round(i, 3) for i in c])"
   ]
  },
  {
   "cell_type": "code",
   "execution_count": 9,
   "metadata": {},
   "outputs": [
    {
     "data": {
      "text/plain": [
       "(array([21., 24., 29., 21., 20., 24., 29., 33., 26., 29.]),\n",
       " array([0.009, 0.108, 0.207, 0.306, 0.405, 0.504, 0.603, 0.702, 0.801,\n",
       "        0.9  , 0.999]),\n",
       " <BarContainer object of 10 artists>)"
      ]
     },
     "execution_count": 9,
     "metadata": {},
     "output_type": "execute_result"
    },
    {
     "data": {
      "image/png": "[encoded data removed]",
      "text/plain": [
       "<Figure size 640x480 with 1 Axes>"
      ]
     },
     "metadata": {},
     "output_type": "display_data"
    }
   ],
   "source": [
    "plt.hist(c)"
   ]
  },
  {
   "cell_type": "code",
   "execution_count": 10,
   "metadata": {},
   "outputs": [],
   "source": [
    "delta_img = []\n",
    "\n",
    "for layer in wide_network.layers.values():\n",
    "    r = []\n",
    "    for node in layer.neurons.values():\n",
    "        r.append(node.state[0])\n",
    "    delta_img.append(r)"
   ]
  },
  {
   "cell_type": "code",
   "execution_count": 11,
   "metadata": {},
   "outputs": [],
   "source": [
    "# # Create an image using the data\n",
    "# size = int(len(delta_img[1]) ** 0.5)\n",
    "\n",
    "# img_one = delta_img[1]\n",
    "# data = np.array(img_one).reshape(size, size)\n",
    "\n",
    "# print(len(data))\n",
    "# plt.imshow(data, cmap='gray')  # 'gray' colormap for grayscale\n",
    "# plt.axis('off')  # Turn off axis\n",
    "\n",
    "# # Save the image\n",
    "# plt.savefig('output_image.png', bbox_inches='tight', pad_inches=0)\n",
    "\n",
    "# plt.show()"
   ]
  },
  {
   "cell_type": "code",
   "execution_count": 12,
   "metadata": {},
   "outputs": [],
   "source": [
    "# plt.imshow(img_matrix, cmap='gray')  # 'gray' colormap for grayscale\n",
    "# plt.show()"
   ]
  },
  {
   "cell_type": "code",
   "execution_count": 13,
   "metadata": {},
   "outputs": [
    {
     "ename": "ValueError",
     "evalue": "operands could not be broadcast together with shapes (128,2) (2,3) ",
     "output_type": "error",
     "traceback": [
      "\u001b[0;31m---------------------------------------------------------------------------\u001b[0m",
      "\u001b[0;31mValueError\u001b[0m                                Traceback (most recent call last)",
      "Cell \u001b[0;32mIn[13], line 2\u001b[0m\n\u001b[1;32m      1\u001b[0m h_one \u001b[38;5;241m=\u001b[39m wide_network\u001b[38;5;241m.\u001b[39mlayers[\u001b[38;5;241m0\u001b[39m]\n\u001b[0;32m----> 2\u001b[0m \u001b[43mh_one\u001b[49m\u001b[38;5;241;43m.\u001b[39;49m\u001b[43mtrain\u001b[49m\u001b[43m(\u001b[49m\u001b[38;5;241;43m20\u001b[39;49m\u001b[43m)\u001b[49m\n",
      "File \u001b[0;32m~/Desktop/neural_collective_network/utils/layers.py:134\u001b[0m, in \u001b[0;36mLayer.train\u001b[0;34m(self, epochs)\u001b[0m\n\u001b[1;32m    132\u001b[0m \u001b[38;5;28mself\u001b[39m\u001b[38;5;241m.\u001b[39mloss_grad \u001b[38;5;241m=\u001b[39m loss_grad\n\u001b[1;32m    133\u001b[0m \u001b[38;5;66;03m# Perform the backpropagation step\u001b[39;00m\n\u001b[0;32m--> 134\u001b[0m \u001b[38;5;28;43mself\u001b[39;49m\u001b[38;5;241;43m.\u001b[39;49m\u001b[43mback_propagation\u001b[49m\u001b[43m(\u001b[49m\u001b[43m)\u001b[49m\n\u001b[1;32m    135\u001b[0m \u001b[38;5;66;03m# (Optional) Print the loss to monitor progress\u001b[39;00m\n\u001b[1;32m    136\u001b[0m \u001b[38;5;28;01mif\u001b[39;00m epoch \u001b[38;5;241m%\u001b[39m \u001b[38;5;241m10\u001b[39m \u001b[38;5;241m==\u001b[39m \u001b[38;5;241m0\u001b[39m:  \u001b[38;5;66;03m# Print every 10 epochs, adjust as needed\u001b[39;00m\n",
      "File \u001b[0;32m~/Desktop/neural_collective_network/utils/layers.py:105\u001b[0m, in \u001b[0;36mLayer.back_propagation\u001b[0;34m(self)\u001b[0m\n\u001b[1;32m    103\u001b[0m \u001b[38;5;28;01mfor\u001b[39;00m idx, neuron \u001b[38;5;129;01min\u001b[39;00m \u001b[38;5;28menumerate\u001b[39m(\u001b[38;5;28mself\u001b[39m\u001b[38;5;241m.\u001b[39mneurons\u001b[38;5;241m.\u001b[39mvalues()):\n\u001b[1;32m    104\u001b[0m     neuron_loss_grad \u001b[38;5;241m=\u001b[39m \u001b[38;5;28mself\u001b[39m\u001b[38;5;241m.\u001b[39mloss_grad\n\u001b[0;32m--> 105\u001b[0m     neuron_weight_grad \u001b[38;5;241m=\u001b[39m \u001b[43mneuron\u001b[49m\u001b[38;5;241;43m.\u001b[39;49m\u001b[43mcompute_gradient\u001b[49m\u001b[43m(\u001b[49m\u001b[43mneuron_loss_grad\u001b[49m\u001b[43m)\u001b[49m\n\u001b[1;32m    106\u001b[0m     \u001b[38;5;66;03m# Update neuron weights\u001b[39;00m\n\u001b[1;32m    107\u001b[0m     neuron\u001b[38;5;241m.\u001b[39mupdate_weights(neuron_weight_grad)\n",
      "File \u001b[0;32m~/Desktop/neural_collective_network/utils/neurons.py:41\u001b[0m, in \u001b[0;36mNeuron.compute_gradient\u001b[0;34m(self, neuron_loss_grad)\u001b[0m\n\u001b[1;32m     39\u001b[0m derivative \u001b[38;5;241m=\u001b[39m \u001b[38;5;28mself\u001b[39m\u001b[38;5;241m.\u001b[39mderivative()\n\u001b[1;32m     40\u001b[0m d_output_d_weights \u001b[38;5;241m=\u001b[39m derivative \u001b[38;5;241m*\u001b[39m \u001b[38;5;28mself\u001b[39m\u001b[38;5;241m.\u001b[39mlast_input\n\u001b[0;32m---> 41\u001b[0m gradient \u001b[38;5;241m=\u001b[39m \u001b[43mneuron_loss_grad\u001b[49m\u001b[43m \u001b[49m\u001b[38;5;241;43m*\u001b[39;49m\u001b[43m \u001b[49m\u001b[43md_output_d_weights\u001b[49m\u001b[38;5;241;43m.\u001b[39;49m\u001b[43mT\u001b[49m\n\u001b[1;32m     42\u001b[0m \u001b[38;5;28mself\u001b[39m\u001b[38;5;241m.\u001b[39mloss_gradient \u001b[38;5;241m=\u001b[39m gradient\u001b[38;5;241m.\u001b[39mT\n\u001b[1;32m     43\u001b[0m \u001b[38;5;28;01mreturn\u001b[39;00m gradient\u001b[38;5;241m.\u001b[39mT\n",
      "\u001b[0;31mValueError\u001b[0m: operands could not be broadcast together with shapes (128,2) (2,3) "
     ]
    }
   ],
   "source": [
    "h_one = wide_network.layers[0]\n",
    "h_one.train(20)"
   ]
  }
 ],
 "metadata": {
  "kernelspec": {
   "display_name": "Python 3",
   "language": "python",
   "name": "python3"
  },
  "language_info": {
   "codemirror_mode": {
    "name": "ipython",
    "version": 3
   },
   "file_extension": ".py",
   "mimetype": "text/x-python",
   "name": "python",
   "nbconvert_exporter": "python",
   "pygments_lexer": "ipython3",
   "version": "3.11.5"
  }
 },
 "nbformat": 4,
 "nbformat_minor": 2
}
