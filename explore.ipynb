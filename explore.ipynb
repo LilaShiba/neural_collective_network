{
 "cells": [
  {
   "cell_type": "code",
   "execution_count": null,
   "metadata": {},
   "outputs": [],
   "source": [
    "from utils.network import Network\n",
    "from utils.vectors import Vector\n",
    "import numpy as np\n",
    "import random\n",
    "import matplotlib.pyplot as plt\n",
    "import pandas as pd"
   ]
  },
  {
   "cell_type": "markdown",
   "metadata": {},
   "source": [
    "## Network Example"
   ]
  },
  {
   "cell_type": "code",
   "execution_count": null,
   "metadata": {},
   "outputs": [],
   "source": [
    "sine_wave = np.array(Vector.generate_nosiey_sin())\n",
    "network_example = Network(dataset=sine_wave)\n",
    "network_example.init_network(layers=3)"
   ]
  },
  {
   "cell_type": "code",
   "execution_count": null,
   "metadata": {},
   "outputs": [],
   "source": [
    "network_example.train_network(epochs=15)\n",
    "print(\n",
    "    f' Prediction: {network_example.layers[0].neurons[0].output} | Ground Truth: {network_example.layers[0].neurons[0].y}')"
   ]
  },
  {
   "cell_type": "code",
   "execution_count": 21,
   "metadata": {},
   "outputs": [
    {
     "name": "stdout",
     "output_type": "stream",
     "text": [
      "[(-1.6356135228890356, <utils.neurons.Neuron object at 0x1261e0d50>), (-1.230466449424896, <utils.neurons.Neuron object at 0x1261e0890>), (-1.340642753615417, <utils.neurons.Neuron object at 0x1261e0690>), (-1.0826241698466694, <utils.neurons.Neuron object at 0x1261e0590>), (-1.1548615641672804, <utils.neurons.Neuron object at 0x1261e0710>), (-0.9442242749892036, <utils.neurons.Neuron object at 0x1261e0d10>), (-0.824924979561492, <utils.neurons.Neuron object at 0x1261e0390>), (-0.7910452158831235, <utils.neurons.Neuron object at 0x1261e0450>), (-1.027989109776235, <utils.neurons.Neuron object at 0x1261e0510>), (-0.949617330888986, <utils.neurons.Neuron object at 0x1261e0910>), (-0.7494782805946529, <utils.neurons.Neuron object at 0x1261e0b10>), (-0.8250135432818068, <utils.neurons.Neuron object at 0x1261e0190>), (-0.27204736916193495, <utils.neurons.Neuron object at 0x1261e00d0>), (-0.056006511985055324, <utils.neurons.Neuron object at 0x1261e0310>), (-0.6577935835672702, <utils.neurons.Neuron object at 0x1261e0410>), (-0.5418001828855838, <utils.neurons.Neuron object at 0x1261bc510>), (-0.7588614809781169, <utils.neurons.Neuron object at 0x1261e0490>), (-0.9940000055750375, <utils.neurons.Neuron object at 0x1261bfe10>), (-1.0270889123015519, <utils.neurons.Neuron object at 0x1261e0810>), (-0.8208440664299844, <utils.neurons.Neuron object at 0x1261e08d0>), (-0.7568049359323338, <utils.neurons.Neuron object at 0x1261e0990>), (-0.6909742180964171, <utils.neurons.Neuron object at 0x1261e0a50>), (-0.7211224626729613, <utils.neurons.Neuron object at 0x1261e0b50>), (-0.47599921807428625, <utils.neurons.Neuron object at 0x1261e0cd0>), (-0.6810599497101248, <utils.neurons.Neuron object at 0x1261e0210>), (0.7072430174322857, <utils.neurons.Neuron object at 0x1261bfad0>), (-0.08049817644126234, <utils.neurons.Neuron object at 0x1261e01d0>), (0.6741824300521564, <utils.neurons.Neuron object at 0x1261bc450>), (0.31851404800943034, <utils.neurons.Neuron object at 0x1261bfb50>), (-0.30853734210767303, <utils.neurons.Neuron object at 0x1261e0250>), (-0.5836947538770635, <utils.neurons.Neuron object at 0x1261e0350>), (0.36615492234680963, <utils.neurons.Neuron object at 0x1261bc390>), (-0.05526049746688966, <utils.neurons.Neuron object at 0x1261bc650>), (-0.6719087930861872, <utils.neurons.Neuron object at 0x1261e0550>), (0.4871907477081827, <utils.neurons.Neuron object at 0x1261e05d0>), (0.070475450689654, <utils.neurons.Neuron object at 0x1261bfdd0>), (-0.894924061266561, <utils.neurons.Neuron object at 0x1261e06d0>), (0.49865995941049895, <utils.neurons.Neuron object at 0x1261bfd50>), (-0.9094927664848438, <utils.neurons.Neuron object at 0x1261e07d0>), (-0.007520092679372481, <utils.neurons.Neuron object at 0x1261bfed0>), (-0.6624466425917989, <utils.neurons.Neuron object at 0x1261e0850>), (-0.6327272069581203, <utils.neurons.Neuron object at 0x1261e0950>), (-0.47096734489375225, <utils.neurons.Neuron object at 0x1261e0a10>), (0.28815980747788966, <utils.neurons.Neuron object at 0x1261bc3d0>), (-0.6176090536789718, <utils.neurons.Neuron object at 0x1261e0ad0>), (-0.4746717066564954, <utils.neurons.Neuron object at 0x1261e0b90>), (0.4430957404133402, <utils.neurons.Neuron object at 0x1261bffd0>), (0.9966599520829078, <utils.neurons.Neuron object at 0x1261e0c90>), (0.1613305193599167, <utils.neurons.Neuron object at 0x1261e0110>), (0.3905803863599082, <utils.neurons.Neuron object at 0x1261bc410>), (0.7559627945653643, <utils.neurons.Neuron object at 0x1261e0090>), (1.142455593781972, <utils.neurons.Neuron object at 0x1261bfa90>), (0.8658222489056874, <utils.neurons.Neuron object at 0x1261e0150>), (0.932665416440401, <utils.neurons.Neuron object at 0x1261bc590>), (0.012286051884847327, <utils.neurons.Neuron object at 0x1261bc190>), (0.9426579900313654, <utils.neurons.Neuron object at 0x1261bc5d0>), (1.086395418069917, <utils.neurons.Neuron object at 0x1261e0290>), (0.7716993928615147, <utils.neurons.Neuron object at 0x1261bfb10>), (0.7096378024582884, <utils.neurons.Neuron object at 0x1261e02d0>), (1.136423568881167, <utils.neurons.Neuron object at 0x1261bc610>), (1.0828090329087474, <utils.neurons.Neuron object at 0x1261bfb90>), (1.346999180187701, <utils.neurons.Neuron object at 0x1261bfbd0>), (0.923543339566226, <utils.neurons.Neuron object at 0x1261e03d0>), (0.9820255092043222, <utils.neurons.Neuron object at 0x1261bfc10>), (0.6225273893782983, <utils.neurons.Neuron object at 0x1261bc490>), (1.0220577651810994, <utils.neurons.Neuron object at 0x1261e04d0>), (0.8460022937975398, <utils.neurons.Neuron object at 0x1261bfc50>), (1.4332453384829071, <utils.neurons.Neuron object at 0x1261bfc90>), (0.8322168728787248, <utils.neurons.Neuron object at 0x1261bfcd0>), (1.1601218930097024, <utils.neurons.Neuron object at 0x1261bc690>), (0.4905648644432773, <utils.neurons.Neuron object at 0x1261e0610>), (1.066530760063773, <utils.neurons.Neuron object at 0x1261bfd10>), (0.6043555779117541, <utils.neurons.Neuron object at 0x1261bc4d0>), (0.6062296584410275, <utils.neurons.Neuron object at 0x1261bc6d0>), (-0.8798358271094472, <utils.neurons.Neuron object at 0x1261e0650>), (1.1441617375622688, <utils.neurons.Neuron object at 0x1261bc710>), (0.9980574161776092, <utils.neurons.Neuron object at 0x1261e0750>), (0.7514662065868647, <utils.neurons.Neuron object at 0x1261bfd90>), (-0.8427182020036696, <utils.neurons.Neuron object at 0x1261e0790>), (1.0946268221295061, <utils.neurons.Neuron object at 0x1261bc750>), (0.4615469600674993, <utils.neurons.Neuron object at 0x1261bfe50>), (0.5126195818212727, <utils.neurons.Neuron object at 0x1261bc350>), (-0.5241522275756934, <utils.neurons.Neuron object at 0x1261bc290>), (1.1666117707749735, <utils.neurons.Neuron object at 0x1261bf950>), (0.1733651900520809, <utils.neurons.Neuron object at 0x1261bc1d0>), (0.7444760579698295, <utils.neurons.Neuron object at 0x1261bfe90>), (-0.4296541052497599, <utils.neurons.Neuron object at 0x1261e09d0>), (0.7246943563329525, <utils.neurons.Neuron object at 0x1261bf990>), (0.5834177346520859, <utils.neurons.Neuron object at 0x1261bff50>), (0.6429578070250318, <utils.neurons.Neuron object at 0x1261bff10>), (-0.22558044823219103, <utils.neurons.Neuron object at 0x1261e0a90>), (0.9020123242082095, <utils.neurons.Neuron object at 0x1261bf9d0>), (0.3847458853376642, <utils.neurons.Neuron object at 0x1261bff90>), (1.311813690496201, <utils.neurons.Neuron object at 0x1261e0bd0>), (1.1038362978380505, <utils.neurons.Neuron object at 0x1261e0c10>), (1.1952887858356407, <utils.neurons.Neuron object at 0x1261e0c50>), (1.1194903622384211, <utils.neurons.Neuron object at 0x1261e0050>), (0.8891938046996101, <utils.neurons.Neuron object at 0x1261bfa10>), (0.8745017742369305, <utils.neurons.Neuron object at 0x1261bc550>), (1.057559497930569, <utils.neurons.Neuron object at 0x1261bfa50>)]\n",
      "0.012286051884847327\n"
     ]
    }
   ],
   "source": [
    "n = network_example.layers[1]\n",
    "print(n.states)\n",
    "test_state = n.neurons[0].state\n",
    "print(test_state)"
   ]
  },
  {
   "cell_type": "code",
   "execution_count": 27,
   "metadata": {},
   "outputs": [
    {
     "name": "stdout",
     "output_type": "stream",
     "text": [
      "6\n",
      "[[-0.056006511985055324 <utils.neurons.Neuron object at 0x1261e0310>]\n",
      " [-0.08049817644126234 <utils.neurons.Neuron object at 0x1261e01d0>]\n",
      " [-0.05526049746688966 <utils.neurons.Neuron object at 0x1261bc650>]\n",
      " [0.070475450689654 <utils.neurons.Neuron object at 0x1261bfdd0>]\n",
      " [-0.007520092679372481 <utils.neurons.Neuron object at 0x1261bfed0>]\n",
      " [0.012286051884847327 <utils.neurons.Neuron object at 0x1261bc190>]]\n"
     ]
    }
   ],
   "source": [
    "states_np_array = np.array(n.states)\n",
    "threshold = 0.1\n",
    "x = states_np_array[abs(states_np_array[:, 0] - test_state) < threshold]\n",
    "print(len(x))\n",
    "print(x)"
   ]
  },
  {
   "cell_type": "code",
   "execution_count": null,
   "metadata": {},
   "outputs": [],
   "source": [
    "wide_network = Network(dataset=sine_wave)\n",
    "wide_network.init_network(layers=3)\n",
    "wide_network.train_network(epochs=3)\n",
    "print(f'Layers: {wide_network.layers.values()}')\n",
    "print('')\n",
    "# Examine single neuron\n",
    "print(wide_network.layers[1].neurons[0:5])\n",
    "n1 = wide_network.layers[0].neurons[0]"
   ]
  },
  {
   "cell_type": "markdown",
   "metadata": {},
   "source": [
    "## Neuron"
   ]
  },
  {
   "cell_type": "code",
   "execution_count": null,
   "metadata": {},
   "outputs": [],
   "source": [
    "print(\"inputs type:\", n1.x.dtype)\n",
    "print(\n",
    "    f\" input: {n1.x } | output:{n1.output} | ground truth: {n1.y}, | signal: {n1.signal}\")\n",
    "print(\"weights:\")\n",
    "print(n1.weights)"
   ]
  },
  {
   "cell_type": "code",
   "execution_count": null,
   "metadata": {},
   "outputs": [],
   "source": [
    "\n",
    "wide_network.train_network(epochs=20)"
   ]
  },
  {
   "cell_type": "code",
   "execution_count": null,
   "metadata": {},
   "outputs": [],
   "source": []
  },
  {
   "cell_type": "code",
   "execution_count": null,
   "metadata": {},
   "outputs": [],
   "source": [
    "c = []\n",
    "for layer in wide_network.layers.values():\n",
    "    for node in layer.neurons.values():\n",
    "        c.append(node.state[0])\n",
    "print(c)"
   ]
  },
  {
   "cell_type": "code",
   "execution_count": null,
   "metadata": {},
   "outputs": [],
   "source": [
    "c = np.array(c)\n",
    "print(c.std())"
   ]
  },
  {
   "cell_type": "code",
   "execution_count": null,
   "metadata": {},
   "outputs": [],
   "source": [
    "c = np.array([round(i, 3) for i in c])"
   ]
  },
  {
   "cell_type": "code",
   "execution_count": null,
   "metadata": {},
   "outputs": [],
   "source": [
    "plt.hist(c)"
   ]
  },
  {
   "cell_type": "code",
   "execution_count": null,
   "metadata": {},
   "outputs": [],
   "source": [
    "delta_img = []\n",
    "\n",
    "for layer in wide_network.layers.values():\n",
    "    r = []\n",
    "    for node in layer.neurons.values():\n",
    "        r.append(node.state[0])\n",
    "    delta_img.append(r)"
   ]
  },
  {
   "cell_type": "code",
   "execution_count": null,
   "metadata": {},
   "outputs": [],
   "source": [
    "# # Create an image using the data\n",
    "# size = int(len(delta_img[1]) ** 0.5)\n",
    "\n",
    "# img_one = delta_img[1]\n",
    "# data = np.array(img_one).reshape(size, size)\n",
    "\n",
    "# print(len(data))\n",
    "# plt.imshow(data, cmap='gray')  # 'gray' colormap for grayscale\n",
    "# plt.axis('off')  # Turn off axis\n",
    "\n",
    "# # Save the image\n",
    "# plt.savefig('output_image.png', bbox_inches='tight', pad_inches=0)\n",
    "\n",
    "# plt.show()"
   ]
  },
  {
   "cell_type": "code",
   "execution_count": null,
   "metadata": {},
   "outputs": [],
   "source": [
    "# plt.imshow(img_matrix, cmap='gray')  # 'gray' colormap for grayscale\n",
    "# plt.show()"
   ]
  },
  {
   "cell_type": "code",
   "execution_count": null,
   "metadata": {},
   "outputs": [],
   "source": [
    "h_one = wide_network.layers[0]\n",
    "h_one.train(20)"
   ]
  }
 ],
 "metadata": {
  "kernelspec": {
   "display_name": "Python 3",
   "language": "python",
   "name": "python3"
  },
  "language_info": {
   "codemirror_mode": {
    "name": "ipython",
    "version": 3
   },
   "file_extension": ".py",
   "mimetype": "text/x-python",
   "name": "python",
   "nbconvert_exporter": "python",
   "pygments_lexer": "ipython3",
   "version": "3.11.5"
  }
 },
 "nbformat": 4,
 "nbformat_minor": 2
}
