{
 "cells": [
  {
   "cell_type": "code",
   "execution_count": 1,
   "metadata": {},
   "outputs": [],
   "source": [
    "from utils.network import Network\n",
    "import numpy as np\n",
    "import random\n",
    "import matplotlib.pyplot as plt\n",
    "from sklearn.model_selection import train_test_split\n",
    "import pandas as pd"
   ]
  },
  {
   "cell_type": "code",
   "execution_count": 2,
   "metadata": {},
   "outputs": [],
   "source": [
    "# happy_img_path_1 = \"dataset/test/happy/im0.png\"\n",
    "# angry_img_path_1 = \"dataset/test/angry/im1.png\"\n",
    "# angry_img_path_2 = \"dataset/test/angry/im2.png\"\n",
    "# img_matrix = Network.transduce_img(img_path=angry_img_path_1)\n",
    "# # 11 is the region on the continous output for happy\n",
    "# input_matrix = [np.array([happy_img_path_1, 1]), np.array([angry_img_path_1, 0]),\n",
    "#                 np.array([angry_img_path_2, 2])]\n",
    "\n",
    "# single_test_angry = [img_matrix, 1]\n",
    "# single_test_happy = [Network.transduce_img(happy_img_path_1), -1]\n",
    "\n",
    "wave = Network.sine_wave()\n",
    "# input_matrix = np.array(input_matrix)\n",
    "wide_network = Network(dataset=wave)"
   ]
  },
  {
   "cell_type": "markdown",
   "metadata": {},
   "source": [
    "## Network Example"
   ]
  },
  {
   "cell_type": "code",
   "execution_count": 3,
   "metadata": {},
   "outputs": [
    {
     "name": "stdout",
     "output_type": "stream",
     "text": [
      "dict_values([<utils.layers.Layer object at 0x7fcded2f9b40>, <utils.layers.Layer object at 0x7fcded2f94b0>])\n",
      "\n",
      "[<utils.neurons.Neuron object at 0x7fcded2f82e0>\n",
      " <utils.neurons.Neuron object at 0x7fcded2f84f0>]\n",
      "weights [[0.43408185 0.95465308 0.83966003]\n",
      " [0.63862311 0.4864674  0.53519382]]\n",
      "\n",
      "signal None\n",
      "state 0.554998959471615\n"
     ]
    }
   ],
   "source": [
    "# Create Network\n",
    "wide_network.init_network(layers=2)\n",
    "print(wide_network.layers.values())\n",
    "print('')\n",
    "print(wide_network.layers[0].neurons)\n",
    "# Examine single neuron\n",
    "n1 = wide_network.layers[0].neurons[0]\n",
    "\n",
    "print(f'weights {n1.weights}')\n",
    "print('')\n",
    "print(f'signal {n1.signal}')\n",
    "print(f'state {n1.state}')"
   ]
  },
  {
   "cell_type": "code",
   "execution_count": 7,
   "metadata": {},
   "outputs": [
    {
     "name": "stdout",
     "output_type": "stream",
     "text": [
      "inputs_x type: float64 shape: () input: 0.049473900056532176 output: 0.6490218795897023 signal: [0.64902188 0.44401168]\n",
      "weights type: float64 shape: (2, 3) weights: [[0.43408185 0.95465308 0.83966003]\n",
      " [0.63862311 0.4864674  0.53519382]]\n"
     ]
    }
   ],
   "source": [
    "\n",
    "print(\"inputs_x type:\", n1.x.dtype, \"shape:\",\n",
    "      n1.x.shape, \"input:\", n1.y, \"output:\", n1.state, \"signal:\", n1.signal)\n",
    "print(\"weights type:\", n1.weights.dtype, \"shape:\",\n",
    "      n1.weights.shape, \"weights:\", n1.weights)"
   ]
  },
  {
   "cell_type": "code",
   "execution_count": 8,
   "metadata": {},
   "outputs": [],
   "source": [
    "\n",
    "wide_network.train_network(epochs=20)"
   ]
  },
  {
   "cell_type": "code",
   "execution_count": 11,
   "metadata": {},
   "outputs": [
    {
     "name": "stdout",
     "output_type": "stream",
     "text": [
      "[0.3503378037022992, -0.19503872425852942, 0.057223212381860344, -1.1144967792567457]\n"
     ]
    }
   ],
   "source": [
    "c = []\n",
    "for layer in wide_network.layers.values():\n",
    "    for node in layer.neurons:\n",
    "        c.append(node.state)\n",
    "print(c)"
   ]
  },
  {
   "cell_type": "code",
   "execution_count": 12,
   "metadata": {},
   "outputs": [
    {
     "name": "stdout",
     "output_type": "stream",
     "text": [
      "0.5483531603077866\n"
     ]
    }
   ],
   "source": [
    "c = np.array(c)\n",
    "print(c.std())"
   ]
  },
  {
   "cell_type": "code",
   "execution_count": 13,
   "metadata": {},
   "outputs": [],
   "source": [
    "c = np.array([round(i, 3) for i in c])"
   ]
  },
  {
   "cell_type": "code",
   "execution_count": 14,
   "metadata": {},
   "outputs": [
    {
     "data": {
      "text/plain": [
       "(array([1., 0., 0., 0., 0., 0., 1., 1., 0., 1.]),\n",
       " array([-1.114 , -0.9676, -0.8212, -0.6748, -0.5284, -0.382 , -0.2356,\n",
       "        -0.0892,  0.0572,  0.2036,  0.35  ]),\n",
       " <BarContainer object of 10 artists>)"
      ]
     },
     "execution_count": 14,
     "metadata": {},
     "output_type": "execute_result"
    },
    {
     "data": {
      "image/png": "[encoded data removed]",
      "text/plain": [
       "<Figure size 640x480 with 1 Axes>"
      ]
     },
     "metadata": {},
     "output_type": "display_data"
    }
   ],
   "source": [
    "plt.hist(c)"
   ]
  },
  {
   "cell_type": "code",
   "execution_count": 18,
   "metadata": {},
   "outputs": [
    {
     "data": {
      "text/plain": [
       "array([<utils.neurons.Neuron object at 0x7fcded2f82e0>,\n",
       "       <utils.neurons.Neuron object at 0x7fcded2f84f0>], dtype=object)"
      ]
     },
     "execution_count": 18,
     "metadata": {},
     "output_type": "execute_result"
    }
   ],
   "source": [
    "h_one = wide_network.layers[0]\n",
    "h_one.train(20)"
   ]
  }
 ],
 "metadata": {
  "kernelspec": {
   "display_name": "Python 3",
   "language": "python",
   "name": "python3"
  },
  "language_info": {
   "codemirror_mode": {
    "name": "ipython",
    "version": 3
   },
   "file_extension": ".py",
   "mimetype": "text/x-python",
   "name": "python",
   "nbconvert_exporter": "python",
   "pygments_lexer": "ipython3",
   "version": "3.10.12"
  }
 },
 "nbformat": 4,
 "nbformat_minor": 2
}
