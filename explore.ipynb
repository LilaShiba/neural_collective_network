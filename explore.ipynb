{
 "cells": [
  {
   "cell_type": "code",
   "execution_count": 1,
   "metadata": {},
   "outputs": [],
   "source": [
    "from utils.network import Network\n",
    "from utils.vectors import Vector\n",
    "import numpy as np\n",
    "import random\n",
    "import matplotlib.pyplot as plt\n",
    "import pandas as pd"
   ]
  },
  {
   "cell_type": "markdown",
   "metadata": {},
   "source": [
    "## Network Example"
   ]
  },
  {
   "cell_type": "code",
   "execution_count": 2,
   "metadata": {},
   "outputs": [
    {
     "data": {
      "text/plain": [
       "{0: <utils.layers.Layer at 0x1188f6cd0>,\n",
       " 1: <utils.layers.Layer at 0x11890dbd0>,\n",
       " 2: <utils.layers.Layer at 0x103d54fd0>}"
      ]
     },
     "execution_count": 2,
     "metadata": {},
     "output_type": "execute_result"
    }
   ],
   "source": [
    "sine_wave = np.array(Vector.generate_nosiey_sin(points=128))\n",
    "network_example = Network(dataset=sine_wave)\n",
    "network_example.init_network(layers=3)"
   ]
  },
  {
   "cell_type": "code",
   "execution_count": 3,
   "metadata": {},
   "outputs": [
    {
     "name": "stdout",
     "output_type": "stream",
     "text": [
      " Prediction: 0.059814007154762205 | Ground Truth: 0.06261427089546592\n"
     ]
    }
   ],
   "source": [
    "network_example.train_network(epochs=15)\n",
    "print(\n",
    "    f' Prediction: {network_example.layers[0].neurons[0].output} | Ground Truth: {network_example.layers[0].neurons[0].y}')"
   ]
  },
  {
   "cell_type": "code",
   "execution_count": 4,
   "metadata": {},
   "outputs": [
    {
     "name": "stdout",
     "output_type": "stream",
     "text": [
      "[(-1.2285280045031888, <utils.neurons.Neuron object at 0x11892a7d0>), (-1.2220772196199903, <utils.neurons.Neuron object at 0x11892a890>), (-1.2049771610430304, <utils.neurons.Neuron object at 0x11892aad0>), (-1.0788534205506346, <utils.neurons.Neuron object at 0x11892a4d0>), (-1.2019790060620876, <utils.neurons.Neuron object at 0x11892a590>), (-1.1785371314512736, <utils.neurons.Neuron object at 0x11892ad90>), (-1.0609301883786881, <utils.neurons.Neuron object at 0x11892aed0>), (-0.28139580877404574, <utils.neurons.Neuron object at 0x11892a410>), (-0.7107035544472512, <utils.neurons.Neuron object at 0x11892a5d0>), (-1.1322852927584357, <utils.neurons.Neuron object at 0x11892a210>), (-1.197442694201643, <utils.neurons.Neuron object at 0x11892a650>), (-1.0808807999909928, <utils.neurons.Neuron object at 0x11892aa50>), (-1.1051703212019777, <utils.neurons.Neuron object at 0x11892ac10>), (-0.7568798559179633, <utils.neurons.Neuron object at 0x11892ae90>), (-0.8895368356094493, <utils.neurons.Neuron object at 0x11892b190>), (0.22456657343348485, <utils.neurons.Neuron object at 0x11890dc50>), (-0.2488883494074613, <utils.neurons.Neuron object at 0x11892a2d0>), (-0.1459871171757735, <utils.neurons.Neuron object at 0x11892a450>), (-0.6581332484890827, <utils.neurons.Neuron object at 0x11892a550>), (-0.7020960075488403, <utils.neurons.Neuron object at 0x11892a690>), (-1.0029770795617718, <utils.neurons.Neuron object at 0x11892a710>), (-0.9344416335004124, <utils.neurons.Neuron object at 0x11892a910>), (-1.1135025757793588, <utils.neurons.Neuron object at 0x11892aa10>), (-0.7802223849614519, <utils.neurons.Neuron object at 0x11892ab10>), (-1.0020354708033834, <utils.neurons.Neuron object at 0x11892ab90>), (-0.8984822155286222, <utils.neurons.Neuron object at 0x11892ac50>), (-1.043469213048767, <utils.neurons.Neuron object at 0x11892ae10>), (-0.746534640212644, <utils.neurons.Neuron object at 0x11892a090>), (-0.5991912963245896, <utils.neurons.Neuron object at 0x11892af90>), (-0.681438328736316, <utils.neurons.Neuron object at 0x11890e610>), (-0.8048636535459255, <utils.neurons.Neuron object at 0x11892b050>), (0.5916702984345522, <utils.neurons.Neuron object at 0x11892b250>), (0.32320645399350356, <utils.neurons.Neuron object at 0x11892a290>), (0.7497682979149656, <utils.neurons.Neuron object at 0x11892a350>), (-0.1541802771953963, <utils.neurons.Neuron object at 0x11892a3d0>), (0.594476476010543, <utils.neurons.Neuron object at 0x11890dfd0>), (-0.001505814327976307, <utils.neurons.Neuron object at 0x11892a510>), (-0.5481666946390189, <utils.neurons.Neuron object at 0x11890dc90>), (-0.5796786815974959, <utils.neurons.Neuron object at 0x11892a390>), (0.08394644139700863, <utils.neurons.Neuron object at 0x11890db90>), (-0.4068748265437936, <utils.neurons.Neuron object at 0x11892a6d0>), (0.41867833736581306, <utils.neurons.Neuron object at 0x11890dcd0>), (-0.8090051001516465, <utils.neurons.Neuron object at 0x11892a750>), (0.229871159270301, <utils.neurons.Neuron object at 0x118929ed0>), (-0.6581290181403241, <utils.neurons.Neuron object at 0x11892a850>), (-0.2429292882344294, <utils.neurons.Neuron object at 0x11892a990>), (-1.0584610139969277, <utils.neurons.Neuron object at 0x11892a950>), (0.3266474730866497, <utils.neurons.Neuron object at 0x11890dd10>), (-0.550842567799911, <utils.neurons.Neuron object at 0x118929f50>), (-0.8075955342658816, <utils.neurons.Neuron object at 0x11890e410>), (-0.834772481506538, <utils.neurons.Neuron object at 0x11892ab50>), (-0.24099418401672312, <utils.neurons.Neuron object at 0x11892a010>), (-0.5106153026675265, <utils.neurons.Neuron object at 0x11892acd0>), (-0.08882071304966771, <utils.neurons.Neuron object at 0x11892ad50>), (-1.0084275154751827, <utils.neurons.Neuron object at 0x11892add0>), (0.37715246006504005, <utils.neurons.Neuron object at 0x11890ded0>), (-0.5614392276643461, <utils.neurons.Neuron object at 0x11892ae50>), (0.5095609265221647, <utils.neurons.Neuron object at 0x11892a0d0>), (-0.5120592314114863, <utils.neurons.Neuron object at 0x11892afd0>), (0.48973044312407465, <utils.neurons.Neuron object at 0x11890df10>), (0.990955873796974, <utils.neurons.Neuron object at 0x11892a190>), (0.2293613051851272, <utils.neurons.Neuron object at 0x11892a150>), (-0.7604710205354304, <utils.neurons.Neuron object at 0x11892b210>), (0.6574309917576043, <utils.neurons.Neuron object at 0x11890dd90>), (1.0606337729035673, <utils.neurons.Neuron object at 0x11890e350>), (1.3301113011777286, <utils.neurons.Neuron object at 0x11890e390>), (1.1782745440128521, <utils.neurons.Neuron object at 0x11892a310>), (1.4558818298033525, <utils.neurons.Neuron object at 0x11890e3d0>), (0.767200599924171, <utils.neurons.Neuron object at 0x11890df90>), (0.7808517723554398, <utils.neurons.Neuron object at 0x11890e490>), (0.041909607303969976, <utils.neurons.Neuron object at 0x11892a250>), (1.245651756597363, <utils.neurons.Neuron object at 0x11890e4d0>), (1.1131218774575813, <utils.neurons.Neuron object at 0x11892a490>), (0.7336584686298789, <utils.neurons.Neuron object at 0x11890ddd0>), (0.5523126487297249, <utils.neurons.Neuron object at 0x11890e510>), (1.248544467984147, <utils.neurons.Neuron object at 0x11890e550>), (0.8000446497363964, <utils.neurons.Neuron object at 0x11890e010>), (1.146624114790986, <utils.neurons.Neuron object at 0x11890e590>), (0.5028042248974955, <utils.neurons.Neuron object at 0x11892a610>), (1.1538251664691996, <utils.neurons.Neuron object at 0x11890e5d0>), (0.35398453935075685, <utils.neurons.Neuron object at 0x11890e090>), (0.8299782880355998, <utils.neurons.Neuron object at 0x11890e050>), (-0.12793573440557807, <utils.neurons.Neuron object at 0x11890db50>), (0.7142222954853229, <utils.neurons.Neuron object at 0x11890e650>), (0.720435211040094, <utils.neurons.Neuron object at 0x11892a790>), (0.43943939698201784, <utils.neurons.Neuron object at 0x11890e690>), (-0.5206029746073645, <utils.neurons.Neuron object at 0x11892a810>), (0.7690844343080783, <utils.neurons.Neuron object at 0x11890e6d0>), (0.5957583090433992, <utils.neurons.Neuron object at 0x11890e0d0>), (0.9768813374506521, <utils.neurons.Neuron object at 0x11890e710>), (-0.6452661058060494, <utils.neurons.Neuron object at 0x11892a8d0>), (1.0089417086727583, <utils.neurons.Neuron object at 0x11890e750>), (0.527474574332429, <utils.neurons.Neuron object at 0x11890de10>), (0.9959840249498274, <utils.neurons.Neuron object at 0x11890e110>), (0.4117040869541178, <utils.neurons.Neuron object at 0x11892a9d0>), (1.4676005535878676, <utils.neurons.Neuron object at 0x118929f10>), (0.37936153471061057, <utils.neurons.Neuron object at 0x11892aa90>), (0.34582903898921097, <utils.neurons.Neuron object at 0x11890dc10>), (0.2209842620572931, <utils.neurons.Neuron object at 0x11890e150>), (1.2381840771820536, <utils.neurons.Neuron object at 0x11890e190>), (1.0295222644138984, <utils.neurons.Neuron object at 0x118929f90>), (1.3088927053492319, <utils.neurons.Neuron object at 0x103d61c50>), (-0.4732038872783303, <utils.neurons.Neuron object at 0x11892abd0>), (1.1746780731830058, <utils.neurons.Neuron object at 0x11890de90>), (0.2730772117368667, <utils.neurons.Neuron object at 0x103d51810>), (1.0210019617943353, <utils.neurons.Neuron object at 0x11890e1d0>), (-0.3069019092416827, <utils.neurons.Neuron object at 0x11892ac90>), (1.5969958030558575, <utils.neurons.Neuron object at 0x11890e210>), (-0.031052903374965024, <utils.neurons.Neuron object at 0x118929fd0>), (0.12241741714273469, <utils.neurons.Neuron object at 0x11890de50>), (-1.0058700495977162, <utils.neurons.Neuron object at 0x11892ad10>), (1.1541210356235545, <utils.neurons.Neuron object at 0x11890e250>), (0.537748189907697, <utils.neurons.Neuron object at 0x11890dd50>), (0.6302973220511443, <utils.neurons.Neuron object at 0x11892a050>), (-0.504153341377126, <utils.neurons.Neuron object at 0x11892af10>), (0.6649967885178137, <utils.neurons.Neuron object at 0x11890e290>), (0.5189390434664947, <utils.neurons.Neuron object at 0x11892af50>), (0.5329542110099668, <utils.neurons.Neuron object at 0x11892a110>), (-0.18837341831644028, <utils.neurons.Neuron object at 0x11892b010>), (1.1677242413898086, <utils.neurons.Neuron object at 0x11890e2d0>), (1.18297350325919, <utils.neurons.Neuron object at 0x11892b090>), (1.6592188543747177, <utils.neurons.Neuron object at 0x11892b0d0>), (1.553310849420466, <utils.neurons.Neuron object at 0x11892b110>), (1.2181450197757973, <utils.neurons.Neuron object at 0x11890e310>), (1.0483223673015072, <utils.neurons.Neuron object at 0x11892b150>), (0.7926700291472911, <utils.neurons.Neuron object at 0x11892a1d0>), (-0.10575576355239946, <utils.neurons.Neuron object at 0x11892b1d0>), (1.201825130316615, <utils.neurons.Neuron object at 0x11890df50>)]\n"
     ]
    }
   ],
   "source": [
    "n = network_example.layers[1]\n",
    "print(n.states)\n",
    "test_state = n.neurons[0].state"
   ]
  },
  {
   "cell_type": "code",
   "execution_count": 5,
   "metadata": {},
   "outputs": [
    {
     "name": "stdout",
     "output_type": "stream",
     "text": [
      "7\n",
      " the searching neuron has a state of -0.12793573440557807 and the top 7 matches are [[-0.1459871171757735 <utils.neurons.Neuron object at 0x11892a450>]\n",
      " [-0.1541802771953963 <utils.neurons.Neuron object at 0x11892a3d0>]\n",
      " [-0.08882071304966771 <utils.neurons.Neuron object at 0x11892ad50>]\n",
      " [-0.12793573440557807 <utils.neurons.Neuron object at 0x11890db50>]\n",
      " [-0.031052903374965024 <utils.neurons.Neuron object at 0x118929fd0>]\n",
      " [-0.18837341831644028 <utils.neurons.Neuron object at 0x11892b010>]\n",
      " [-0.10575576355239946 <utils.neurons.Neuron object at 0x11892b1d0>]]\n"
     ]
    }
   ],
   "source": [
    "states_np_array = np.array(n.states)\n",
    "threshold = 0.1\n",
    "x = states_np_array[abs(states_np_array[:, 0] - test_state) < threshold]\n",
    "print(len(x))\n",
    "print(\n",
    "    f' the searching neuron has a state of {test_state} and the top {len(x)} matches are {x}')"
   ]
  },
  {
   "cell_type": "code",
   "execution_count": 6,
   "metadata": {},
   "outputs": [
    {
     "name": "stdout",
     "output_type": "stream",
     "text": [
      "Layers: dict_values([<utils.layers.Layer object at 0x118967050>, <utils.layers.Layer object at 0x118949f10>, <utils.layers.Layer object at 0x11894bcd0>])\n",
      "\n",
      "[<utils.neurons.Neuron object at 0x118949e90>\n",
      " <utils.neurons.Neuron object at 0x118949ed0>\n",
      " <utils.neurons.Neuron object at 0x118949f50>\n",
      " <utils.neurons.Neuron object at 0x1189710d0>\n",
      " <utils.neurons.Neuron object at 0x118971110>]\n"
     ]
    }
   ],
   "source": [
    "wide_network = Network(dataset=sine_wave)\n",
    "wide_network.init_network(layers=3)\n",
    "wide_network.train_network(epochs=3)\n",
    "print(f'Layers: {wide_network.layers.values()}')\n",
    "print('')\n",
    "# Examine single neuron\n",
    "print(wide_network.layers[1].neurons[0:5])\n",
    "n1 = wide_network.layers[0].neurons[0]"
   ]
  },
  {
   "cell_type": "markdown",
   "metadata": {},
   "source": [
    "## Neuron"
   ]
  },
  {
   "cell_type": "code",
   "execution_count": 7,
   "metadata": {},
   "outputs": [
    {
     "name": "stdout",
     "output_type": "stream",
     "text": [
      "inputs type: float64\n",
      " input: 0.0 | output:0.0380972826715551 | ground truth: 0.06261427089546592, | signal: [-0.33962474  0.03809728]\n",
      "weights:\n",
      "[[0.57226619 0.64338713 0.50163301]\n",
      " [0.40788089 0.62363545 0.96939294]]\n"
     ]
    }
   ],
   "source": [
    "print(\"inputs type:\", n1.x.dtype)\n",
    "print(\n",
    "    f\" input: {n1.x } | output:{n1.output} | ground truth: {n1.y}, | signal: {n1.signal}\")\n",
    "print(\"weights:\")\n",
    "print(n1.weights)"
   ]
  },
  {
   "cell_type": "code",
   "execution_count": 8,
   "metadata": {},
   "outputs": [],
   "source": [
    "\n",
    "wide_network.train_network(epochs=20)"
   ]
  },
  {
   "cell_type": "code",
   "execution_count": 9,
   "metadata": {},
   "outputs": [
    {
     "name": "stdout",
     "output_type": "stream",
     "text": [
      "[-0.2899236439886635, 0.07612140847070414, -0.03200031604328002, 0.24268803770751235, 0.18265510054570055, -0.08937686290411007, 0.5341141159868665, 0.7935193203860047, 0.7293575157131723, 0.8176601999989122, 0.2590435261781251, -0.9852534461596802, 0.5440659093326236, 0.6039111955388694, 0.8090631647823314, 1.2756979700759672, 0.773152262775029, 0.06319997192634924, 0.9176338252205741, 0.980776505769662, 0.8944154138143583, 0.028874678762215583, 1.1320504742752282, 0.016900005201028634, 1.0686059103058332, 0.863811755982679, 1.568304298543218, 1.267740823397892, 1.028051167855853, 1.1007705841163813, 1.2982053395243862, 0.8316982811192561, 1.6320590330329035, 1.1135855156192962, 1.1226232051652938, 1.3141208658300387, 0.788578791599856, 1.1840848970581537, 0.8161007188862612, 1.0932886906587074, 0.8984099236431581, 1.0689097000597712, 0.9095296574501026, -0.23445270464862053, 1.1079201964874499, 1.171134381525658, 0.48736195787846276, 0.7335221451386102, 0.35805804127998697, 0.7971833851818384, 0.4118941353670412, 0.520329305487625, -0.39918827814037794, -0.3123624064948506, 0.6753268067658033, 0.570210054483796, 0.9556826257086676, 0.6297503848988697, -0.24594906344160336, -0.40251225684450365, 1.5006221559855684, -0.16405553754038416, 0.2357036668547341, -1.5383333539009088, -0.21646770927138878, -0.20346074820946403, 0.2533665450627238, -0.4185228170848875, -0.4649272196350328, -0.18592074643400636, -0.48848906830544464, 1.0618973299690397, -0.47002372675628656, 0.04270851513826568, -0.41498334953572047, -0.7717692401799118, -0.9229308604791829, -0.881714403976213, -1.2572270404627224, -0.3575079507723141, -0.5875170984046892, 1.2864719388982477, -0.7146921856169202, -0.31790975897325097, -0.47626686699796095, 0.021901299279505515, -0.8199100053871815, -0.12467391773261499, -1.525221469885215, -0.6579539179782401, 0.2841442517337711, -1.0554699011497906, -1.0880691779651854, -1.2064007599265707, -1.401409502373137, -1.0158062521233853, -1.0703847168345264, -1.1580527106076581, -0.7804160403734608, -0.6801746935913053, -0.9959639175885643, -0.8864004385343356, -0.9259891714072902, 0.9542449599177343, -0.9463568616849398, -1.2468695410736628, -1.122758662885981, -0.7400865438855024, 0.6568227061001994, -0.4914222422686667, -0.12771672386603944, 1.308738035275481, -0.7759195865911874, -0.6755208277005711, -0.5037398616109425, -0.5363869608688183, -0.5986554026704412, 0.019665248002753433, -0.4289672229771342, -0.28434752571515753, -0.37257590423651865, -1.7924086572324165, 0.36620187927484993, 1.2475371198170526, 0.6240630135209296, 1.0675426816816627, 1.3780335774078292, -1.2452651197589324, -0.07617644216466668, -0.4672244477422136, 0.08155740428805974, 0.3294600727966359, 0.4506717898515297, 0.44605090085916155, 0.3424382345983499, 0.11971826656826329, 0.582243915712101, 0.8098342066032376, 0.25274581010894676, -1.0233094433552177, 0.6633161175421433, 0.10660016336270292, 0.4720401510665321, 0.8916702890518458, 0.6225822181791043, 0.423789448225516, 0.6114860319975692, 1.003431296516077, 0.7328846904161712, -0.25264237089882696, 1.0258894538722485, 0.4525750542005639, 1.2867064610119097, 0.7435618750508916, 1.564796622675355, 0.8318279585695507, 0.24893675599548426, 0.8180745595779974, 1.2864342401995428, 1.0263434197823584, 1.2552500814460925, 1.1870032018697514, 0.9908032889836235, 1.2030647415939204, 0.6600951491123299, 1.2687945880404778, 1.2974112445765957, 0.6163790106856811, 1.022285126311728, 1.0028244825205457, 0.4361511497761415, 0.9486304095994305, 0.7044063962439581, 1.1496696974140952, 0.4129963843290061, 0.38825072242169567, 0.5855596500046407, 0.9108776271920411, -0.05707449472551221, 0.3549315874268999, -0.3124097171951527, 0.4846081226469965, 0.11895807728786084, -0.720765857365769, 0.09653718779855536, 0.5567877018523896, 0.0841987728581054, 0.2614238726835032, 0.06349622447729264, 0.23537180667901425, 0.8071041083633528, -1.2378676760932341, 0.28204739601190865, -0.4044618734575658, 0.22989148314840924, 1.3252204210485499, -0.32572128875747386, 1.3472940519250325, -0.2670373926273051, -0.3690499282781914, -0.3558328175511839, -0.32667951176403653, -0.6876693188524466, -0.3984763139776915, -1.0018115287146618, -0.9146988278961687, -0.87721347412332, -1.1681886418422074, -0.6416279112673844, 0.2713192723490134, 0.1551797776145115, -0.8299774952152866, -1.0106900004968484, -1.2213365494247228, -0.9314191200341324, -0.9850241730797799, -1.265143995363524, 1.75045260111734, 1.3397558972324384, -0.925883225801398, -1.2778640462501385, -0.6258116757646822, -1.1147529238008915, -0.47164870102777534, -1.129171931511568, -1.2049885497343307, -0.8837572318656505, -0.6785395875631381, -0.9959639455773132, -0.2576890452917793, -1.0587254247866806, -0.8984830485556341, -1.020709808564603, -0.8006995821379984, -1.0134060421693616, -0.7069485874436985, -0.9298841159624666, -0.49172076169736856, -1.1636253403645387, -0.5922376346050473, -0.7698404467771668, -0.5506656633237746, 1.3830091553036348, -0.5363710946204072, -0.5988336962867893, 1.3723711778796568, -0.17387120337039008, -0.48418916169407505, -0.16861525710831504, 1.5887750889890304, -0.995918532126031, 1.2125650439697782, -0.9345214109274487, -0.5540802674674377, -1.2141170489597926, -1.6698846519861397, -0.4524057992981793, 0.14166140491891244, 0.4174513278243947, 0.8329024419587446, -0.0762580775445284, 0.1965524144175564, 1.051167578663052, -0.0828547553605655, -0.18214632231457373, 1.3776977056609616, -0.2645224144326806, -0.05556477456515263, 0.9914591217872802, 0.6055475029973723, 0.2182317810870683, 0.8852177381853356, 1.0703983377473067, 0.5290872708232253, 0.6242223778042885, 1.4691073927999496, 0.7357286913436677, 0.9998752146952358, 1.2593844530817753, 0.13475669425414757, 1.3077112806548188, 1.0893736942060481, 1.54296700747491, 1.1209248133138225, 0.9342824619818836, 0.5246988008637783, 1.630401650187113, 1.0380337624464722, 1.3397011051467862, 0.7865009294407607, 0.7736482865859486, 1.2249629882397577, 0.9189731187016995, 1.201008744838556, 1.3052543141974007, 1.1450622112389115, 0.5510006691775959, 1.1571709594493385, 0.35534678767822825, 0.9921424944693623, 1.5115841921582474, 0.633744127720319, 0.33621447186745956, 0.9006868949623521, 0.4895066169347516, 0.6032169632820689, -0.1813942071282661, 0.6603370209768362, 0.20035412250328455, -0.1927307036194152, 0.8778707389651115, 0.3831364963030731, 0.6391489188028237, 0.33813989941375633, -1.2700983888017574, -0.047023604531260976, -0.38713114454445363, 0.03593235190586411, -0.7169074411630088, 0.007703476882564564, -0.4630120083221999, -0.3138238616062442, -0.37652250214665445, -0.13083698159096224, -0.4651569879816676, -0.2947879975805663, -0.35031793711220816, -0.7967751762557832, -0.3452501155337292, -0.40456770312013646, 1.1880333382703476, -0.5696850991479412, -0.8679291779894118, -0.90555208316044, -0.8773602065829935, -1.02007320974856, -0.582833454058513, 1.4189129633769069, -0.699715041661426, -0.9727035157672995, -0.48398323944962734, -1.1057557647640799, -0.9282127153791839, -0.9197681649692293, -0.8796316722898297, -0.62372715047627, -0.6954457008538952, -1.0510811318215134, -1.1769192359082625, -1.212114630026155, -1.1133222968786256, -1.0558147597313368, -0.6675058182369513, -1.2263395698521447, 0.3480789320009994, -0.6785397138332196, -0.9959639453598504, -0.9641179356004895, 0.5540640634452967, -0.480052138206418, -1.0246684728855038, -0.7563861942194191, -0.25338390093295793, -0.7069521019436396, -0.9298754732906577, -0.49446283560172255, -1.1365381029757589, -0.562136902049068, 0.9808785862331053, -0.5380218415663086, -0.5037167872241665, -0.5363865788647644, 1.2875430786379867, 1.1493106047365225, 0.07133475377868442, -0.6410531505054908, -0.35042629198941133, 1.5700673063803623, -1.1549306208141874, 0.9832415032597392, 0.36034478486681787, -1.365729991404182, -0.5885630641252267, 1.5733174648128256]\n"
     ]
    }
   ],
   "source": [
    "c = []\n",
    "for layer in wide_network.layers.values():\n",
    "    for node in layer.neurons:\n",
    "        c.append(node.state)\n",
    "print(c)"
   ]
  },
  {
   "cell_type": "code",
   "execution_count": 10,
   "metadata": {},
   "outputs": [
    {
     "name": "stdout",
     "output_type": "stream",
     "text": [
      "0.8445172047235429\n"
     ]
    }
   ],
   "source": [
    "c = np.array(c)\n",
    "print(c.std())"
   ]
  },
  {
   "cell_type": "code",
   "execution_count": 11,
   "metadata": {},
   "outputs": [],
   "source": [
    "c = np.array([round(i, 3) for i in c])"
   ]
  },
  {
   "cell_type": "code",
   "execution_count": 12,
   "metadata": {},
   "outputs": [
    {
     "data": {
      "text/plain": [
       "(array([ 4., 27., 51., 59., 43., 37., 50., 50., 50., 13.]),\n",
       " array([-1.792 , -1.4378, -1.0836, -0.7294, -0.3752, -0.021 ,  0.3332,\n",
       "         0.6874,  1.0416,  1.3958,  1.75  ]),\n",
       " <BarContainer object of 10 artists>)"
      ]
     },
     "execution_count": 12,
     "metadata": {},
     "output_type": "execute_result"
    },
    {
     "data": {
      "image/png": "[encoded data removed]",
      "text/plain": [
       "<Figure size 640x480 with 1 Axes>"
      ]
     },
     "metadata": {},
     "output_type": "display_data"
    }
   ],
   "source": [
    "plt.hist(c)"
   ]
  },
  {
   "cell_type": "code",
   "execution_count": 13,
   "metadata": {},
   "outputs": [],
   "source": [
    "delta_img = []\n",
    "\n",
    "for layer in wide_network.layers.values():\n",
    "    r = []\n",
    "    for node in layer.neurons:\n",
    "        r.append(node.state)\n",
    "    delta_img.append(r)"
   ]
  },
  {
   "cell_type": "code",
   "execution_count": 19,
   "metadata": {},
   "outputs": [
    {
     "ename": "TypeError",
     "evalue": "can't multiply sequence by non-int of type 'list'",
     "output_type": "error",
     "traceback": [
      "\u001b[0;31m---------------------------------------------------------------------------\u001b[0m",
      "\u001b[0;31mTypeError\u001b[0m                                 Traceback (most recent call last)",
      "Cell \u001b[0;32mIn[19], line 4\u001b[0m\n\u001b[1;32m      1\u001b[0m \u001b[38;5;66;03m# Create an image using the data\u001b[39;00m\n\u001b[1;32m      2\u001b[0m size \u001b[38;5;241m=\u001b[39m \u001b[38;5;28mint\u001b[39m(\u001b[38;5;28mlen\u001b[39m(delta_img[\u001b[38;5;241m1\u001b[39m]))\n\u001b[0;32m----> 4\u001b[0m img_one \u001b[38;5;241m=\u001b[39m \u001b[43mdelta_img\u001b[49m\u001b[43m[\u001b[49m\u001b[38;5;241;43m1\u001b[39;49m\u001b[43m]\u001b[49m\u001b[43m \u001b[49m\u001b[38;5;241;43m*\u001b[39;49m\u001b[43m \u001b[49m\u001b[43mdelta_img\u001b[49m\u001b[43m[\u001b[49m\u001b[38;5;241;43m0\u001b[39;49m\u001b[43m]\u001b[49m\n\u001b[1;32m      5\u001b[0m data \u001b[38;5;241m=\u001b[39m np\u001b[38;5;241m.\u001b[39marray(img_one)\u001b[38;5;241m.\u001b[39mreshape(size, size)\n\u001b[1;32m      7\u001b[0m \u001b[38;5;28mprint\u001b[39m(\u001b[38;5;28mlen\u001b[39m(data))\n",
      "\u001b[0;31mTypeError\u001b[0m: can't multiply sequence by non-int of type 'list'"
     ]
    }
   ],
   "source": [
    "# Create an image using the data\n",
    "size = int(len(delta_img[1]) ** 0.5)\n",
    "\n",
    "img_one = delta_img[1]\n",
    "data = np.array(img_one).reshape(size, size)\n",
    "\n",
    "print(len(data))\n",
    "plt.imshow(data, cmap='gray')  # 'gray' colormap for grayscale\n",
    "plt.axis('off')  # Turn off axis\n",
    "\n",
    "# Save the image\n",
    "plt.savefig('output_image.png', bbox_inches='tight', pad_inches=0)\n",
    "\n",
    "plt.show()"
   ]
  }
 ],
 "metadata": {
  "kernelspec": {
   "display_name": "Python 3",
   "language": "python",
   "name": "python3"
  },
  "language_info": {
   "codemirror_mode": {
    "name": "ipython",
    "version": 3
   },
   "file_extension": ".py",
   "mimetype": "text/x-python",
   "name": "python",
   "nbconvert_exporter": "python",
   "pygments_lexer": "ipython3",
   "version": "3.11.5"
  }
 },
 "nbformat": 4,
 "nbformat_minor": 2
}
