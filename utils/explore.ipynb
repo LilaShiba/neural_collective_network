{
 "cells": [
  {
   "cell_type": "code",
   "execution_count": 1,
   "metadata": {},
   "outputs": [
    {
     "ename": "ModuleNotFoundError",
     "evalue": "No module named 'utils'",
     "output_type": "error",
     "traceback": [
      "\u001b[0;31m---------------------------------------------------------------------------\u001b[0m",
      "\u001b[0;31mModuleNotFoundError\u001b[0m                       Traceback (most recent call last)",
      "Cell \u001b[0;32mIn[1], line 1\u001b[0m\n\u001b[0;32m----> 1\u001b[0m \u001b[38;5;28;01mfrom\u001b[39;00m \u001b[38;5;21;01mutils\u001b[39;00m\u001b[38;5;21;01m.\u001b[39;00m\u001b[38;5;21;01mnetwork\u001b[39;00m \u001b[38;5;28;01mimport\u001b[39;00m Network\n\u001b[1;32m      2\u001b[0m \u001b[38;5;28;01mimport\u001b[39;00m \u001b[38;5;21;01mnumpy\u001b[39;00m \u001b[38;5;28;01mas\u001b[39;00m \u001b[38;5;21;01mnp\u001b[39;00m\n\u001b[1;32m      3\u001b[0m \u001b[38;5;28;01mimport\u001b[39;00m \u001b[38;5;21;01mrandom\u001b[39;00m\n",
      "\u001b[0;31mModuleNotFoundError\u001b[0m: No module named 'utils'"
     ]
    }
   ],
   "source": [
    "from network import Network\n",
    "import numpy as np\n",
    "import random\n",
    "import matplotlib.pyplot as plt\n",
    "from sklearn.model_selection import train_test_split\n",
    "import pandas as pd"
   ]
  },
  {
   "cell_type": "code",
   "execution_count": null,
   "metadata": {},
   "outputs": [],
   "source": [
    "# happy_img_path_1 = \"dataset/test/happy/im0.png\"\n",
    "# angry_img_path_1 = \"dataset/test/angry/im1.png\"\n",
    "# angry_img_path_2 = \"dataset/test/angry/im2.png\"\n",
    "# img_matrix = Network.transduce_img(img_path=angry_img_path_1)\n",
    "# # 11 is the region on the continous output for happy\n",
    "# input_matrix = [np.array([happy_img_path_1, 1]), np.array([angry_img_path_1, 0]),\n",
    "#                 np.array([angry_img_path_2, 2])]\n",
    "\n",
    "# single_test_angry = [img_matrix, 1]\n",
    "# single_test_happy = [Network.transduce_img(happy_img_path_1), -1]\n",
    "\n",
    "wave = Network.sine_wave()\n",
    "# input_matrix = np.array(input_matrix)\n",
    "wide_network = Network(dataset=wave)"
   ]
  },
  {
   "cell_type": "markdown",
   "metadata": {},
   "source": [
    "## Network Example"
   ]
  },
  {
   "cell_type": "code",
   "execution_count": null,
   "metadata": {},
   "outputs": [],
   "source": [
    "# Create Network\n",
    "wide_network.init_network(layers=2)\n",
    "print(wide_network.layers.values())\n",
    "print('')\n",
    "print(wide_network.layers[0].neurons)\n",
    "# Examine single neuron\n",
    "n1 = wide_network.layers[0].neurons[0]\n",
    "\n",
    "print(f'weights {n1.weights}')\n",
    "print('')\n",
    "print(f'signal {n1.signal}')\n",
    "print(f'state {n1.state}')"
   ]
  },
  {
   "cell_type": "code",
   "execution_count": null,
   "metadata": {},
   "outputs": [],
   "source": [
    "\n",
    "print(\"inputs_x type:\", n1.x.dtype, \"shape:\",\n",
    "      n1.x.shape, \"input:\", n1.y, \"output:\", n1.state, \"signal:\", n1.signal)\n",
    "print(\"weights type:\", n1.weights.dtype, \"shape:\",\n",
    "      n1.weights.shape, \"weights:\", n1.weights)"
   ]
  },
  {
   "cell_type": "code",
   "execution_count": null,
   "metadata": {},
   "outputs": [],
   "source": [
    "\n",
    "wide_network.train_network(epochs=20)"
   ]
  },
  {
   "cell_type": "code",
   "execution_count": null,
   "metadata": {},
   "outputs": [],
   "source": [
    "c = []\n",
    "for layer in wide_network.layers.values():\n",
    "    for node in layer.neurons:\n",
    "        c.append(node.state)\n",
    "print(c)"
   ]
  },
  {
   "cell_type": "code",
   "execution_count": null,
   "metadata": {},
   "outputs": [],
   "source": [
    "c = np.array(c)\n",
    "print(c.std())"
   ]
  },
  {
   "cell_type": "code",
   "execution_count": null,
   "metadata": {},
   "outputs": [],
   "source": [
    "c = np.array([round(i, 3) for i in c])"
   ]
  },
  {
   "cell_type": "code",
   "execution_count": null,
   "metadata": {},
   "outputs": [],
   "source": [
    "plt.hist(c)"
   ]
  },
  {
   "cell_type": "code",
   "execution_count": null,
   "metadata": {},
   "outputs": [],
   "source": [
    "h_one = wide_network.layers[0]\n",
    "h_one.train(20)"
   ]
  }
 ],
 "metadata": {
  "kernelspec": {
   "display_name": "Python 3",
   "language": "python",
   "name": "python3"
  },
  "language_info": {
   "codemirror_mode": {
    "name": "ipython",
    "version": 3
   },
   "file_extension": ".py",
   "mimetype": "text/x-python",
   "name": "python",
   "nbconvert_exporter": "python",
   "pygments_lexer": "ipython3",
   "version": "3.10.12"
  }
 },
 "nbformat": 4,
 "nbformat_minor": 2
}
